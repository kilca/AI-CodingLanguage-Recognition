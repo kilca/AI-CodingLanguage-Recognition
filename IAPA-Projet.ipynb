{
 "cells": [
  {
   "cell_type": "markdown",
   "metadata": {},
   "source": [
    "Kilian Cannet - Noe Boonstra"
   ]
  },
  {
   "cell_type": "markdown",
   "metadata": {},
   "source": [
    "# Importation"
   ]
  },
  {
   "cell_type": "code",
   "execution_count": 34,
   "metadata": {},
   "outputs": [
    {
     "name": "stdout",
     "output_type": "stream",
     "text": [
      "Done\n"
     ]
    }
   ],
   "source": [
    "import pandas as pd\n",
    "from sklearn.feature_extraction.text import CountVectorizer\n",
    "from sklearn.pipeline import Pipeline\n",
    "from sklearn.feature_extraction.text import TfidfTransformer\n",
    "from sklearn.metrics import classification_report, confusion_matrix, plot_confusion_matrix\n",
    "from sklearn.model_selection import GridSearchCV\n",
    "\n",
    "from sklearn.naive_bayes import MultinomialNB\n",
    "from sklearn.linear_model import SGDClassifier\n",
    "print(\"Done\")"
   ]
  },
  {
   "cell_type": "markdown",
   "metadata": {},
   "source": [
    "# Chargement données"
   ]
  },
  {
   "cell_type": "code",
   "execution_count": 42,
   "metadata": {},
   "outputs": [
    {
     "data": {
      "text/html": [
       "<div>\n",
       "<style scoped>\n",
       "    .dataframe tbody tr th:only-of-type {\n",
       "        vertical-align: middle;\n",
       "    }\n",
       "\n",
       "    .dataframe tbody tr th {\n",
       "        vertical-align: top;\n",
       "    }\n",
       "\n",
       "    .dataframe thead th {\n",
       "        text-align: right;\n",
       "    }\n",
       "</style>\n",
       "<table border=\"1\" class=\"dataframe\">\n",
       "  <thead>\n",
       "    <tr style=\"text-align: right;\">\n",
       "      <th></th>\n",
       "      <th>content</th>\n",
       "      <th>lang</th>\n",
       "    </tr>\n",
       "  </thead>\n",
       "  <tbody>\n",
       "    <tr>\n",
       "      <th>0</th>\n",
       "      <td>content</td>\n",
       "      <td>type</td>\n",
       "    </tr>\n",
       "    <tr>\n",
       "      <th>1</th>\n",
       "      <td>// Utility.cs\\n//\\n\\nusing System;\\nusing Syst...</td>\n",
       "      <td>cs</td>\n",
       "    </tr>\n",
       "    <tr>\n",
       "      <th>2</th>\n",
       "      <td>\\n{$options.identity.sitename} - Your Accounts...</td>\n",
       "      <td>txt</td>\n",
       "    </tr>\n",
       "    <tr>\n",
       "      <th>3</th>\n",
       "      <td>{\\n  \"name\": \"opulence/sessions\",\\n  \"descript...</td>\n",
       "      <td>json</td>\n",
       "    </tr>\n",
       "    <tr>\n",
       "      <th>4</th>\n",
       "      <td>package io.mycat.backend.postgresql.packet;\\r\\...</td>\n",
       "      <td>java</td>\n",
       "    </tr>\n",
       "    <tr>\n",
       "      <th>5</th>\n",
       "      <td>TAPi18n._afterUILanguageChange = function() {\\...</td>\n",
       "      <td>js</td>\n",
       "    </tr>\n",
       "    <tr>\n",
       "      <th>6</th>\n",
       "      <td>filter:\\n    paths: [\"src/*\"]\\ntools:\\n    ext...</td>\n",
       "      <td>yml</td>\n",
       "    </tr>\n",
       "    <tr>\n",
       "      <th>7</th>\n",
       "      <td>/**\\n * \\n */\\npackage org.openrtb.dsp.intf.mo...</td>\n",
       "      <td>java</td>\n",
       "    </tr>\n",
       "    <tr>\n",
       "      <th>8</th>\n",
       "      <td>{% extends \"json/page.json\" %}\\n{% block title...</td>\n",
       "      <td>json</td>\n",
       "    </tr>\n",
       "    <tr>\n",
       "      <th>9</th>\n",
       "      <td>&lt;?php\\n\\nnamespace JMS\\SecurityExtraBundle\\Sec...</td>\n",
       "      <td>php</td>\n",
       "    </tr>\n",
       "  </tbody>\n",
       "</table>\n",
       "</div>"
      ],
      "text/plain": [
       "                                             content  lang\n",
       "0                                            content  type\n",
       "1  // Utility.cs\\n//\\n\\nusing System;\\nusing Syst...    cs\n",
       "2  \\n{$options.identity.sitename} - Your Accounts...   txt\n",
       "3  {\\n  \"name\": \"opulence/sessions\",\\n  \"descript...  json\n",
       "4  package io.mycat.backend.postgresql.packet;\\r\\...  java\n",
       "5  TAPi18n._afterUILanguageChange = function() {\\...    js\n",
       "6  filter:\\n    paths: [\"src/*\"]\\ntools:\\n    ext...   yml\n",
       "7  /**\\n * \\n */\\npackage org.openrtb.dsp.intf.mo...  java\n",
       "8  {% extends \"json/page.json\" %}\\n{% block title...  json\n",
       "9  <?php\\n\\nnamespace JMS\\SecurityExtraBundle\\Sec...   php"
      ]
     },
     "execution_count": 42,
     "metadata": {},
     "output_type": "execute_result"
    }
   ],
   "source": [
    "#https://www.kaggle.com/priteshshrivastava/sample-github-code\n",
    "data = pd.read_csv(\"sample_code.csv\", lineterminator='\\n',names=['content','lang'])\n",
    "data.head(10)"
   ]
  },
  {
   "cell_type": "markdown",
   "metadata": {},
   "source": [
    "### Filtrage des donnees"
   ]
  },
  {
   "cell_type": "code",
   "execution_count": 43,
   "metadata": {},
   "outputs": [
    {
     "name": "stdout",
     "output_type": "stream",
     "text": [
      "(681919, 2)\n",
      "(201974, 2)\n"
     ]
    }
   ],
   "source": [
    "\n",
    "#Reduire taille trop grande\n",
    "#Todo voir si utile\n",
    "print(data.shape)\n",
    "len_cond = [True if 20<=len(s)<=10000 else False for s in data['content']]\n",
    "data = data[len_cond]\n",
    "\n",
    "# Filtrer\n",
    "lang = ['csv', 'txt', 'java', 'cs', 'py', 'cpp','c','js','php']\n",
    "data = data[data['lang'].isin(lang)]\n",
    "\n",
    "data_trim= pd.DataFrame(data=data)\n",
    "\n",
    "'''\n",
    "for l in lang:\n",
    "    lang_trim = data[data['lang'] ==l].sample(50000,random_state = 100)\n",
    "    data_trim = data_trim.append(lang_trim)\n",
    "'''\n",
    "# Melanger\n",
    "print(data.shape)\n",
    "data_shuffle = data_trim.sample(frac=1)\n",
    "\n",
    "maxim = data_shuffle.shape[0]\n",
    "percent = 0.8\n",
    "part = int(maxim*percent)\n",
    "train = data_shuffle[0:part]\n",
    "valid = data_shuffle[part:maxim]"
   ]
  },
  {
   "cell_type": "code",
   "execution_count": 9,
   "metadata": {},
   "outputs": [
    {
     "name": "stdout",
     "output_type": "stream",
     "text": [
      "taille du training :  161579\n",
      "taille du validation :  40395\n",
      "\n",
      "Quantite de sample par langage :\n",
      "      content\n",
      "lang         \n",
      "csv      1558\n",
      "cpp      6573\n",
      "c        9960\n",
      "py      19486\n",
      "cs      22891\n",
      "txt     25966\n",
      "php     27012\n",
      "java    39064\n",
      "js      49464\n",
      "\n",
      "Pourcentage de sample par langage :\n",
      "       content\n",
      "lang          \n",
      "csv   0.007714\n",
      "cpp   0.032544\n",
      "c     0.049313\n",
      "py    0.096478\n",
      "cs    0.113336\n",
      "txt   0.128561\n",
      "php   0.133740\n",
      "java  0.193411\n",
      "js    0.244903\n"
     ]
    }
   ],
   "source": [
    "print(\"taille du training : \",train.shape[0])\n",
    "print(\"taille du validation : \",valid.shape[0])\n",
    "print()\n",
    "# Variete des donnees\n",
    "grouped = data_trim.groupby('lang').count().sort_values('content')\n",
    "print(\"Quantite de sample par langage :\")\n",
    "print(grouped)\n",
    "print()\n",
    "print(\"Pourcentage de sample par langage :\")\n",
    "print(grouped.div(data_trim.shape[0]))"
   ]
  },
  {
   "cell_type": "code",
   "execution_count": 72,
   "metadata": {},
   "outputs": [
    {
     "name": "stdout",
     "output_type": "stream",
     "text": [
      "['00', '000', '0000', '00000', '000000', '0000000', '00000000', '000000000', '0000000000', '00000000000']\n",
      "sklearn\n",
      "[('the', 201520), ('public', 151384), ('this', 118145), ('import', 97792), ('return', 96364), ('license', 91372), ('function', 85777), ('class', 78705), ('of', 68094), ('is', 64944)]\n"
     ]
    }
   ],
   "source": [
    "#Donnes Vectorisees et Assignee suivant Frequences\n",
    "#On utilisera des pipeline par la suite\n",
    "\n",
    "count_vect = CountVectorizer()\n",
    "X_train_counts = count_vect.fit_transform(train[\"content\"])\n",
    "print(count_vect.get_feature_names()[0:10])#Affiches les premiers mots\n",
    "skline = count_vect.vocabulary_.get(u'sklearn')#Affiche indice de sklearn\n",
    "print(count_vect.get_feature_names()[skline])#affiche sklearn\n",
    "tf_transformer = TfidfTransformer(use_idf=False).fit(X_train_counts)\n",
    "X_train_tf = tf_transformer.transform(X_train_counts)\n",
    "\n",
    "#Mots les plus frequents\n",
    "\n",
    "sum_words = X_train_counts.sum(axis=0) \n",
    "words_freq = [(word, sum_words[0, idx]) for word, idx in count_vect.vocabulary_.items()]\n",
    "words_freq =sorted(words_freq, key = lambda x: x[1], reverse=True)\n",
    "print(words_freq[:10])\n"
   ]
  },
  {
   "cell_type": "markdown",
   "metadata": {},
   "source": [
    "# Training avec Modeles"
   ]
  },
  {
   "cell_type": "markdown",
   "metadata": {},
   "source": [
    "#### Comparaison modeles"
   ]
  },
  {
   "cell_type": "code",
   "execution_count": 31,
   "metadata": {},
   "outputs": [],
   "source": [
    "from matplotlib.colors import ListedColormap\n",
    "from sklearn.model_selection import train_test_split\n",
    "from sklearn.preprocessing import StandardScaler\n",
    "from sklearn.datasets import make_moons, make_circles, make_classification\n",
    "from sklearn.neural_network import MLPClassifier\n",
    "from sklearn.neighbors import KNeighborsClassifier\n",
    "from sklearn.svm import SVC\n",
    "from sklearn.gaussian_process import GaussianProcessClassifier\n",
    "from sklearn.gaussian_process.kernels import RBF\n",
    "from sklearn.tree import DecisionTreeClassifier\n",
    "from sklearn.ensemble import RandomForestClassifier, AdaBoostClassifier\n",
    "from sklearn.naive_bayes import GaussianNB\n",
    "from sklearn.discriminant_analysis import QuadraticDiscriminantAnalysis\n",
    "from sklearn.naive_bayes import MultinomialNB\n",
    "from sklearn.linear_model import SGDClassifier\n",
    "\n",
    "import matplotlib.pyplot as plt"
   ]
  },
  {
   "cell_type": "code",
   "execution_count": 32,
   "metadata": {},
   "outputs": [
    {
     "name": "stdout",
     "output_type": "stream",
     "text": [
      "Training ... ( 1 / 6 )\n",
      "Training ... ( 2 / 6 )\n",
      "Training ... ( 3 / 6 )\n",
      "Training ... ( 4 / 6 )\n"
     ]
    },
    {
     "name": "stderr",
     "output_type": "stream",
     "text": [
      "C:\\Users\\kilca\\anaconda3\\lib\\site-packages\\sklearn\\svm\\_base.py:255: ConvergenceWarning: Solver terminated early (max_iter=8).  Consider pre-processing your data with StandardScaler or MinMaxScaler.\n",
      "  warnings.warn('Solver terminated early (max_iter=%i).'\n"
     ]
    },
    {
     "name": "stdout",
     "output_type": "stream",
     "text": [
      "Training ... ( 5 / 6 )\n",
      "duration :  486.5661189556122\n"
     ]
    },
    {
     "data": {
      "text/html": [
       "<div>\n",
       "<style scoped>\n",
       "    .dataframe tbody tr th:only-of-type {\n",
       "        vertical-align: middle;\n",
       "    }\n",
       "\n",
       "    .dataframe tbody tr th {\n",
       "        vertical-align: top;\n",
       "    }\n",
       "\n",
       "    .dataframe thead th {\n",
       "        text-align: right;\n",
       "    }\n",
       "</style>\n",
       "<table border=\"1\" class=\"dataframe\">\n",
       "  <thead>\n",
       "    <tr style=\"text-align: right;\">\n",
       "      <th></th>\n",
       "      <th>SGD Classif</th>\n",
       "      <th>MultiBayesAdaBoost</th>\n",
       "      <th>RBF SVM</th>\n",
       "      <th>Decision Tree</th>\n",
       "      <th>Random Forest</th>\n",
       "    </tr>\n",
       "  </thead>\n",
       "  <tbody>\n",
       "    <tr>\n",
       "      <th>0</th>\n",
       "      <td>0.914382</td>\n",
       "      <td>0.876636</td>\n",
       "      <td>0.694626</td>\n",
       "      <td>0.140594</td>\n",
       "      <td>0.653297</td>\n",
       "    </tr>\n",
       "    <tr>\n",
       "      <th>1</th>\n",
       "      <td>0.910558</td>\n",
       "      <td>0.847605</td>\n",
       "      <td>0.692214</td>\n",
       "      <td>0.150439</td>\n",
       "      <td>0.651392</td>\n",
       "    </tr>\n",
       "  </tbody>\n",
       "</table>\n",
       "</div>"
      ],
      "text/plain": [
       "   SGD Classif  MultiBayesAdaBoost   RBF SVM  Decision Tree  Random Forest\n",
       "0     0.914382            0.876636  0.694626       0.140594       0.653297\n",
       "1     0.910558            0.847605  0.692214       0.150439       0.651392"
      ]
     },
     "metadata": {},
     "output_type": "display_data"
    }
   ],
   "source": [
    "#[!] Attention ce script prend BEAUCOUP de temps\n",
    "#Lance un warning mais pas important\n",
    "import time\n",
    "\n",
    "\n",
    "names = [\n",
    "        \"SGD Classif\",\n",
    "        \"MultiBayes\"\n",
    "        \"AdaBoost\",\n",
    "        \"RBF SVM\",\n",
    "         \"Decision Tree\",\n",
    "        \"Random Forest\"\n",
    "]\n",
    "\n",
    "classifiers = [\n",
    "    SGDClassifier(loss='hinge', penalty='l2',\n",
    "                      alpha=1e-3, random_state=42,\n",
    "                      max_iter=5, tol=None),\n",
    "    MultinomialNB(),\n",
    "    AdaBoostClassifier(n_estimators=5),# ok\n",
    "    SVC(gamma=2, C=1, max_iter=8),#ok tres long\n",
    "    DecisionTreeClassifier(max_depth=3),#ok\n",
    "    RandomForestClassifier(max_depth=3, n_estimators=10, max_features=1)#ok\n",
    "    \n",
    "]\n",
    "\n",
    "rows = []\n",
    "trainScore = []\n",
    "validScore = []\n",
    "i =1\n",
    "\n",
    "t0 = time.time()\n",
    "for name, clff in zip(names, classifiers):\n",
    "    print(\"Training ... (\",i,\"/\",len(classifiers),\")\")\n",
    "    clf = Pipeline([\n",
    "    ('vect', CountVectorizer()),\n",
    "    ('tfidf', TfidfTransformer()),\n",
    "    ('clf', clff),\n",
    "    ])\n",
    "    clf.fit(train[\"content\"],train[\"lang\"])\n",
    "    score = clf.score(train[\"content\"], train[\"lang\"])\n",
    "    \n",
    "    trainScore.append(clf.score(train[\"content\"],train[\"lang\"]))\n",
    "    validScore.append(clf.score(valid[\"content\"],valid[\"lang\"]))\n",
    "    i = i+1\n",
    "\n",
    "\n",
    "t1 = time.time()\n",
    "total = t1-t0\n",
    "print(\"duration : \",total)\n",
    "data= [trainScore, validScore]\n",
    "ptable = pd.DataFrame(data, columns=names)\n",
    "display(ptable)"
   ]
  },
  {
   "cell_type": "markdown",
   "metadata": {},
   "source": [
    "## Modele Multi Bayonesien"
   ]
  },
  {
   "cell_type": "markdown",
   "metadata": {},
   "source": [
    "### Modele Bayonesien a la Main"
   ]
  },
  {
   "cell_type": "code",
   "execution_count": 6,
   "metadata": {},
   "outputs": [],
   "source": [
    "# Todo, reprendre le modele bayonesien a la main ([!] multi bayesien peut etre different de bayesien)"
   ]
  },
  {
   "cell_type": "markdown",
   "metadata": {},
   "source": [
    "### Modele Bayonesien Sklearn"
   ]
  },
  {
   "cell_type": "code",
   "execution_count": 7,
   "metadata": {},
   "outputs": [
    {
     "name": "stdout",
     "output_type": "stream",
     "text": [
      "0.8764814734588035\n",
      "0.846936502042332\n"
     ]
    }
   ],
   "source": [
    "clf = Pipeline([('vect', CountVectorizer()),\n",
    "                         ('tfidf', TfidfTransformer()),\n",
    "                         ('clf', MultinomialNB())])\n",
    "\n",
    "clf = clf.fit(train[\"content\"],train[\"lang\"])\n",
    "\n",
    "print(clf.score(train[\"content\"],train[\"lang\"]))\n",
    "print(clf.score(valid[\"content\"],valid[\"lang\"]))\n"
   ]
  },
  {
   "cell_type": "markdown",
   "metadata": {},
   "source": [
    "## Modele SGDClassifier"
   ]
  },
  {
   "cell_type": "code",
   "execution_count": 44,
   "metadata": {},
   "outputs": [
    {
     "name": "stdout",
     "output_type": "stream",
     "text": [
      "0.9146361841575947\n",
      "0.9148409456615918\n"
     ]
    }
   ],
   "source": [
    "clf = Pipeline([\n",
    "    ('vect', CountVectorizer()),\n",
    "    ('tfidf', TfidfTransformer()),\n",
    "    ('clf', SGDClassifier(loss='hinge', penalty='l2',\n",
    "                      alpha=1e-3, random_state=42,\n",
    "                      max_iter=5, tol=None)),\n",
    "])\n",
    "\n",
    "clf = clf.fit(train[\"content\"],train[\"lang\"])\n",
    "\n",
    "print(clf.score(train[\"content\"],train[\"lang\"]))\n",
    "print(clf.score(valid[\"content\"],valid[\"lang\"]))\n"
   ]
  },
  {
   "cell_type": "code",
   "execution_count": null,
   "metadata": {},
   "outputs": [],
   "source": [
    "print(valid.columns)\n",
    "print(valid.head(2))\n",
    "print()\n",
    "print(ptable.columns)\n",
    "print(ptable.head(2))\n",
    "print()\n",
    "print(lang)"
   ]
  },
  {
   "cell_type": "markdown",
   "metadata": {},
   "source": [
    "# Recherche hyperparametre sur SGD Classifier :"
   ]
  },
  {
   "cell_type": "markdown",
   "metadata": {},
   "source": [
    "#### Nos Recherches ([!] Prend beaucoup de temps)"
   ]
  },
  {
   "cell_type": "code",
   "execution_count": 83,
   "metadata": {},
   "outputs": [
    {
     "name": "stdout",
     "output_type": "stream",
     "text": [
      "VAL C : 1\n",
      "0.9867247600245082\n",
      "0.9723233073400174\n",
      "VAL C : 1\n",
      "0.9608364948415327\n",
      "0.9549944300037133\n",
      "VAL C : 1\n",
      "0.9146361841575947\n",
      "0.9148409456615918\n",
      "VAL C : 1\n",
      "0.881030331911944\n",
      "0.8843173660106449\n",
      "VAL C : 1\n",
      "0.4313369930498394\n",
      "0.4362668647109791\n",
      "VAL C : 1\n",
      "0.1940660605648011\n",
      "0.19475182572100508\n",
      "VAL C : 1\n",
      "0.19342241256598938\n",
      "0.19336551553410075\n"
     ]
    }
   ],
   "source": [
    "#PS : use_idf ou non change pas bcp\n",
    "\n",
    "alpha_range = [0.00001,0.0001,0.001,0.01,0.1,1.0,10]\n",
    "\n",
    "for A in alpha_range:\n",
    "    clf = Pipeline([\n",
    "        ('vect', CountVectorizer()),\n",
    "        ('tfidf', TfidfTransformer()),\n",
    "        ('clf', SGDClassifier(loss='hinge', penalty='l2',\n",
    "                        random_state=42,alpha=A,\n",
    "                          max_iter=5, tol=None)),\n",
    "    ])\n",
    "\n",
    "    clf = clf.fit(train[\"content\"],train[\"lang\"])\n",
    "    print(\"VAL alpha :\",A)\n",
    "    print(clf.score(train[\"content\"],train[\"lang\"]))\n",
    "    print(clf.score(valid[\"content\"],valid[\"lang\"]))\n",
    "\n",
    "    # Todo hyperparametre (use_idf, alpha, C ...)\n",
    "    # Todo graphe differents hyperparametre"
   ]
  },
  {
   "cell_type": "code",
   "execution_count": 89,
   "metadata": {},
   "outputs": [
    {
     "name": "stdout",
     "output_type": "stream",
     "text": [
      "Loss : hinge\n",
      "0.9608364948415327\n",
      "0.9549944300037133\n",
      "Loss : log\n",
      "0.9242352038321812\n",
      "0.9284812476791682\n",
      "Loss : modified_huber\n",
      "0.9736289988179156\n",
      "0.9640054462185914\n",
      "Loss : squared_hinge\n",
      "0.8932225103509738\n",
      "0.904517885876965\n",
      "Loss : perceptron\n",
      "0.9978400658501414\n",
      "0.9678920658497339\n"
     ]
    }
   ],
   "source": [
    "#Loss\n",
    "loss_range = ['hinge','log','modified_huber','squared_hinge','perceptron']\n",
    "for L in loss_range:\n",
    "    clf = Pipeline([\n",
    "        ('vect', CountVectorizer()),\n",
    "        ('tfidf', TfidfTransformer()),\n",
    "        ('clf', SGDClassifier(loss=L, penalty='l2',\n",
    "                        random_state=42,\n",
    "                          max_iter=5,tol=None)),\n",
    "    ])\n",
    "\n",
    "    clf = clf.fit(train[\"content\"],train[\"lang\"])\n",
    "    print(\"Loss :\",L)\n",
    "    print(clf.score(train[\"content\"],train[\"lang\"]))\n",
    "    print(clf.score(valid[\"content\"],valid[\"lang\"]))\n"
   ]
  },
  {
   "cell_type": "code",
   "execution_count": 88,
   "metadata": {},
   "outputs": [
    {
     "name": "stdout",
     "output_type": "stream",
     "text": [
      "Penalty : l2\n",
      "0.9608364948415327\n",
      "0.9549944300037133\n",
      "Penalty : l1\n",
      "0.9387853619591655\n",
      "0.9411560836737219\n",
      "Penalty : elasticnet\n",
      "0.948260603172442\n",
      "0.9488303007797995\n"
     ]
    }
   ],
   "source": [
    "#Penalty\n",
    "\n",
    "penalty_range = ['l2','l1','elasticnet']\n",
    "for P in penalty_range:\n",
    "    clf = Pipeline([\n",
    "        ('vect', CountVectorizer()),\n",
    "        ('tfidf', TfidfTransformer()),\n",
    "        ('clf', SGDClassifier(loss='hinge', penalty=P,\n",
    "                        random_state=42,\n",
    "                          max_iter=5,tol=None)),\n",
    "    ])\n",
    "\n",
    "    clf = clf.fit(train[\"content\"],train[\"lang\"])\n",
    "    print(\"Penalty :\",P)\n",
    "    print(clf.score(train[\"content\"],train[\"lang\"]))\n",
    "    print(clf.score(valid[\"content\"],valid[\"lang\"]))\n",
    "\n",
    "    # Todo hyperparametre (use_idf, alpha, C ...)\n",
    "    # Todo graphe differents hyperparametre"
   ]
  },
  {
   "cell_type": "code",
   "execution_count": 104,
   "metadata": {},
   "outputs": [
    {
     "name": "stdout",
     "output_type": "stream",
     "text": [
      "0.9986879483101145\n",
      "0.9694516648100012\n"
     ]
    }
   ],
   "source": [
    "#Best estimé (on espere)\n",
    "\n",
    "clf = Pipeline([\n",
    "    ('vect', CountVectorizer()),\n",
    "    ('tfidf', TfidfTransformer()),#use_idf=True est mieu (et change peu)\n",
    "    ('clf', SGDClassifier(loss='modified_huber', penalty='l2',\n",
    "                    random_state=42,\n",
    "                      max_iter=5,tol=None, alpha=0.000001)),\n",
    "])\n",
    "\n",
    "clf = clf.fit(train[\"content\"],train[\"lang\"])\n",
    "print(clf.score(train[\"content\"],train[\"lang\"]))\n",
    "print(clf.score(valid[\"content\"],valid[\"lang\"]))"
   ]
  },
  {
   "cell_type": "markdown",
   "metadata": {},
   "source": [
    "#### Recherche avec GridSearchCV"
   ]
  },
  {
   "cell_type": "code",
   "execution_count": null,
   "metadata": {},
   "outputs": [],
   "source": [
    "# Todo determiner meilleur hyperparam avec GridSearchCV"
   ]
  },
  {
   "cell_type": "markdown",
   "metadata": {},
   "source": [
    "# Analyse des resultat et des metriques"
   ]
  },
  {
   "cell_type": "code",
   "execution_count": 105,
   "metadata": {},
   "outputs": [
    {
     "name": "stdout",
     "output_type": "stream",
     "text": [
      "differents scores cross_validate : \n",
      "[0.96608491 0.96456863 0.96645624 0.96828197 0.96630048]\n",
      "moyenne des scores : 0.9663384472117815\n",
      "train score : 0.9986879483101145\n",
      "test score :  0.9694516648100012\n"
     ]
    }
   ],
   "source": [
    "#Prend pas mal de temps\n",
    "\n",
    "from sklearn import datasets, linear_model\n",
    "from sklearn.model_selection import cross_validate\n",
    "from sklearn.metrics import make_scorer\n",
    "from sklearn.metrics import confusion_matrix\n",
    "\n",
    "import numpy as np\n",
    "\n",
    "from sklearn.model_selection import KFold, cross_val_score\n",
    "\n",
    "scores = cross_val_score(\n",
    "    clf, train[\"content\"], train[\"lang\"], cv=5)\n",
    "\n",
    "print(\"differents scores cross_validate : \")\n",
    "print(scores)\n",
    "print(\"moyenne des scores :\",np.mean(scores))\n",
    "\n",
    "print(\"train score :\",clf.score(train[\"content\"],train[\"lang\"]))\n",
    "print(\"test score : \",clf.score(valid[\"content\"],valid[\"lang\"]))"
   ]
  },
  {
   "cell_type": "code",
   "execution_count": 17,
   "metadata": {},
   "outputs": [
    {
     "name": "stdout",
     "output_type": "stream",
     "text": [
      "{'fit_time': array([16.24347949, 15.9299047 , 17.07711411, 15.9575386 , 17.76930308]), 'score_time': array([3.32822394, 3.397686  , 3.62943673, 3.38888597, 3.51273656]), 'test_score': array([0.83905805, 0.83744894, 0.84060527, 0.84066716, 0.84217855]), 'train_score': array([0.87414805, 0.87267818, 0.87366841, 0.8735369 , 0.87366939])}\n"
     ]
    }
   ],
   "source": [
    "#Attention prend beaucoup de temps\n",
    "\n",
    "cross_v = cross_validate(clf, train[\"content\"], train[\"lang\"], cv=5, return_train_score=True)\n",
    "print(cross_v)"
   ]
  },
  {
   "cell_type": "code",
   "execution_count": 97,
   "metadata": {},
   "outputs": [
    {
     "data": {
      "text/plain": [
       "<matplotlib.legend.Legend at 0x2159dff6700>"
      ]
     },
     "execution_count": 97,
     "metadata": {},
     "output_type": "execute_result"
    },
    {
     "data": {
      "image/png": "[encoded data removed]",
      "text/plain": [
       "<Figure size 432x432 with 1 Axes>"
      ]
     },
     "metadata": {
      "needs_background": "light"
     },
     "output_type": "display_data"
    }
   ],
   "source": [
    "import matplotlib.pyplot as plt\n",
    "fig, ax = plt.subplots(1, 1, figsize=(6, 6))\n",
    "ax.set_ylim([0,1])\n",
    "plt.xticks(range(0,4))\n",
    "ax.plot(cross_v['test_score'],label = \"test_score\")\n",
    "ax.set_title('test_score and train_score validation croisee');\n",
    "ax.plot(cross_v['train_score'], label=\"train score\")\n",
    "ax.legend()"
   ]
  },
  {
   "cell_type": "code",
   "execution_count": 98,
   "metadata": {},
   "outputs": [],
   "source": [
    "y_true = valid[\"lang\"]\n",
    "y_pred = clf.predict(valid[\"content\"])"
   ]
  },
  {
   "cell_type": "code",
   "execution_count": 99,
   "metadata": {},
   "outputs": [
    {
     "name": "stdout",
     "output_type": "stream",
     "text": [
      "[[  68  171    8    2    2    0    1   43    2]\n",
      " [   1 4694   94   11   30   14    7  255   55]\n",
      " [   0   16 7771    4    1    1    3   10    5]\n",
      " [   0   13   37 4516    0    1    2    7    0]\n",
      " [   0  117   66    4 3657    2    3   80    5]\n",
      " [   0   43   36   50    5  875  206   58    2]\n",
      " [   0   39    8    0    4   27 1874   33    1]\n",
      " [   0   83   35    7   40    3    1 9729   23]\n",
      " [   0   39   24    3    5    1    1   94 5267]]\n"
     ]
    },
    {
     "data": {
      "image/png": "[encoded data removed]",
      "text/plain": [
       "<Figure size 432x288 with 2 Axes>"
      ]
     },
     "metadata": {
      "needs_background": "light"
     },
     "output_type": "display_data"
    }
   ],
   "source": [
    "\n",
    "# Matrice de confusion\n",
    "print(confusion_matrix(y_true, y_pred, labels=lang))\n",
    "plot_confusion_matrix(clf, train[\"content\"], train[\"lang\"])\n",
    "plt.show()"
   ]
  },
  {
   "cell_type": "code",
   "execution_count": 100,
   "metadata": {},
   "outputs": [
    {
     "name": "stdout",
     "output_type": "stream",
     "text": [
      "0.9428102891306134\n"
     ]
    }
   ],
   "source": [
    "#MCC\n",
    "from sklearn.metrics import matthews_corrcoef\n",
    "mcc = matthews_corrcoef(y_true,y_pred)\n",
    "print(mcc)"
   ]
  },
  {
   "cell_type": "code",
   "execution_count": 76,
   "metadata": {},
   "outputs": [],
   "source": [
    "#Todo ROC + AUC si possible"
   ]
  },
  {
   "cell_type": "code",
   "execution_count": 101,
   "metadata": {},
   "outputs": [
    {
     "name": "stdout",
     "output_type": "stream",
     "text": [
      "              precision    recall  f1-score   support\n",
      "\n",
      "         csv       0.89      0.94      0.92      1986\n",
      "         txt       0.95      0.69      0.80      1275\n",
      "        java       0.98      0.99      0.98      4576\n",
      "          cs       0.99      0.23      0.37       297\n",
      "          py       0.96      0.99      0.98      7811\n",
      "         cpp       0.94      0.98      0.96      9921\n",
      "           c       0.98      0.97      0.98      5434\n",
      "          js       0.98      0.93      0.95      3934\n",
      "         php       0.90      0.91      0.90      5161\n",
      "\n",
      "    accuracy                           0.95     40395\n",
      "   macro avg       0.95      0.85      0.87     40395\n",
      "weighted avg       0.95      0.95      0.95     40395\n",
      "\n"
     ]
    }
   ],
   "source": [
    "y_true =  valid[\"lang\"]\n",
    "y_pred = clf.predict(valid[\"content\"])\n",
    "target_names = lang\n",
    "print(classification_report(y_true, y_pred, target_names=target_names))"
   ]
  },
  {
   "cell_type": "code",
   "execution_count": null,
   "metadata": {},
   "outputs": [],
   "source": []
  }
 ],
 "metadata": {
  "kernelspec": {
   "display_name": "Python 3",
   "language": "python",
   "name": "python3"
  },
  "language_info": {
   "codemirror_mode": {
    "name": "ipython",
    "version": 3
   },
   "file_extension": ".py",
   "mimetype": "text/x-python",
   "name": "python",
   "nbconvert_exporter": "python",
   "pygments_lexer": "ipython3",
   "version": "3.8.3"
  }
 },
 "nbformat": 4,
 "nbformat_minor": 4
}
