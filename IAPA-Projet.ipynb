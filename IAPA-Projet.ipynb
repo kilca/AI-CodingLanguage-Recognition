{
 "cells": [
  {
   "cell_type": "markdown",
   "metadata": {},
   "source": [
    "Kilian Cannet - Noe Boonstra"
   ]
  },
  {
   "cell_type": "markdown",
   "metadata": {},
   "source": [
    "# Importation"
   ]
  },
  {
   "cell_type": "code",
   "execution_count": 55,
   "metadata": {},
   "outputs": [],
   "source": [
    "import pandas as pd\n",
    "from sklearn.feature_extraction.text import CountVectorizer\n",
    "from sklearn.pipeline import Pipeline\n",
    "from sklearn.feature_extraction.text import TfidfTransformer\n",
    "from sklearn.metrics import classification_report, confusion_matrix, plot_confusion_matrix\n",
    "from sklearn.model_selection import GridSearchCV\n",
    "\n",
    "from sklearn.naive_bayes import MultinomialNB\n",
    "from sklearn.linear_model import SGDClassifier\n",
    "\n",
    "import matplotlib.pyplot as plt"
   ]
  },
  {
   "cell_type": "markdown",
   "metadata": {},
   "source": [
    "# Chargement données"
   ]
  },
  {
   "cell_type": "code",
   "execution_count": 2,
   "metadata": {},
   "outputs": [
    {
     "data": {
      "text/html": [
       "<table border=\"1\" class=\"dataframe\">\n",
       "  <thead>\n",
       "    <tr style=\"text-align: right;\">\n",
       "      <th></th>\n",
       "      <th>content</th>\n",
       "      <th>lang</th>\n",
       "    </tr>\n",
       "  </thead>\n",
       "  <tbody>\n",
       "    <tr>\n",
       "      <th>0</th>\n",
       "      <td>content</td>\n",
       "      <td>type</td>\n",
       "    </tr>\n",
       "    <tr>\n",
       "      <th>1</th>\n",
       "      <td>// Utility.cs<br>//<br><br>using System;<br>using System.Html;<br><br>namespace AroundMe.Core {<br><br>    internal static class Utility {<br><br>        public static Element GetElement(string id) {<br>            return Document.GetElementById(id);<br>        }<br><br>        public static void SubscribeBlur(string id, ElementEventListener listener) {<br>            Element e = Document.GetElementById(id);<br>            e.AddEventListener(\"blur\", listener, false);<br>        }<br><br>        public static void SubscribeClick(string id, ElementEventListener listener) {<br>            Element e = Document.GetElementById(id);<br>            e.AddEventListener(\"click\", listener, false);<br>        }<br><br>        public static void SubscribeKey(string id, ElementEventListener listener) {<br>            Element e = Document.GetElementById(id);<br>            e.AddEventListener(\"keyup\", listener, false);<br>        }<br>    }<br>}<br></td>\n",
       "      <td>cs</td>\n",
       "    </tr>\n",
       "    <tr>\n",
       "      <th>2</th>\n",
       "      <td><br>{$options.identity.sitename} - Your Accounts<br>====================================================<br><br>To whom it may concern,<br><br>You, or someone purporting to be you, has requested a username reminder for your email address for {$options.identity.sitename}.<br><br>The usernames linked to your account are:<br><br>{foreach $users as $u}<br>* {$u-&gt;getUsername()} - (for {$u-&gt;getCustomer()-&gt;getName()})<br>{/foreach}<br><br>If you did not make this request, please contact our support team.<br><br>Thanks and kind regards,<br><br>{$options.identity.name}<br>{$options.identity.email}<br></td>\n",
       "      <td>txt</td>\n",
       "    </tr>\n",
       "    <tr>\n",
       "      <th>3</th>\n",
       "      <td>{<br>  \"name\": \"opulence/sessions\",<br>  \"description\": \"The Opulence session library\",<br>  \"keywords\": [<br>    \"PHP\",<br>    \"session\"<br>  ],<br>  \"authors\": [<br>    {<br>      \"name\": \"David Young\",<br>      \"email\": \"dave@opulencephp.com\",<br>      \"role\": \"Architect\"<br>    }<br>  ],<br>  \"license\": \"MIT\",<br>  \"autoload\": {<br>    \"psr-4\": {<br>      \"Opulence\\\\Sessions\\\\\": \"\"<br>    }<br>  },<br>  \"require\": {<br>    \"php\": \"&gt;=7.0.0\"<br>  },<br>  \"suggest\": {<br>    \"opulence/cache\": \"Required for CacheSessionHandler\",<br>    \"opulence/cryptography\": \"Required for SessionEncrypter\"<br>  },<br>  \"extra\": {<br>    \"branch-alias\": {<br>      \"dev-master\": \"1.0.x-dev\"<br>    }<br>  },<br>  \"minimum-stability\": \"dev\"<br>}</td>\n",
       "      <td>json</td>\n",
       "    </tr>\n",
       "    <tr>\n",
       "      <th>4</th>\n",
       "      <td>package io.mycat.backend.postgresql.packet;<br><br>import java.nio.ByteBuffer;<br><br>import io.mycat.backend.postgresql.utils.PIOUtils;<br><br>//        BindComplete (B)<br>//        Byte1('2')<br>//        标识消息为一个绑定结束标识符。<br>//        <br>//        Int32(4)<br>//        以字节记的消息长度，包括长度本身。<br><br><br>/***<br> * 绑定预编译sql成功<br> * @author Coollf<br> *<br> */<br>public class BindComplete extends PostgreSQLPacket {<br>    private char marker = PacketMarker.B_BindComplete.getValue();<br>    private int length;<br><br>    @Override<br>    public int getLength() {<br>        return length;<br>    }<br><br>    @Override<br>    public char getMarker() {<br>        return marker;<br>    }<br><br>    public static BindComplete parse(ByteBuffer buffer, int offset) {<br>        if ((char) buffer.get(offset) != PacketMarker.B_BindComplete.getValue()) {<br>            throw new IllegalArgumentException(<br>                    \"this packet not is BindComplete\");<br>        }<br>        BindComplete parse = new BindComplete();<br>        parse.length = PIOUtils.redInteger4(buffer, offset + 1);<br>        return parse;<br>    }<br>}<br></td>\n",
       "      <td>java</td>\n",
       "    </tr>\n",
       "  </tbody>\n",
       "</table>"
      ],
      "text/plain": [
       "<IPython.core.display.HTML object>"
      ]
     },
     "metadata": {},
     "output_type": "display_data"
    }
   ],
   "source": [
    "#https://www.kaggle.com/priteshshrivastava/sample-github-code\n",
    "data = pd.read_csv(\"sample_code.csv\", lineterminator='\\n',names=['content','lang'])\n",
    "\n",
    "pd.set_option('display.max_colwidth', None)\n",
    "\n",
    "from IPython.display import display, HTML\n",
    "def pretty_print(df):\n",
    "    return display( HTML( df.to_html().replace(\"\\\\n\",\"<br>\").replace(\"\\\\r\",\"\").replace(\"\\\\t\",\"    \")) )\n",
    "\n",
    "pretty_print(data.head(5))"
   ]
  },
  {
   "cell_type": "code",
   "execution_count": 3,
   "metadata": {},
   "outputs": [
    {
     "name": "stdout",
     "output_type": "stream",
     "text": [
      "Quantite de sample par extension :\n",
      "                 content\n",
      "lang                    \n",
      "swift               6273\n",
      "cpp                 6573\n",
      "m                   7092\n",
      "sh                  7477\n",
      "svg                 8623\n",
      "c                   9960\n",
      "yml                10463\n",
      "sublime-snippet    14715\n",
      "md                 15732\n",
      "py                 19486\n",
      "html               22273\n",
      "cs                 22891\n",
      "rb                 23008\n",
      "txt                25966\n",
      "php                27012\n",
      "h                  30287\n",
      "xml                31016\n",
      "json               33010\n",
      "java               39064\n",
      "js                 49464\n",
      "\n"
     ]
    }
   ],
   "source": [
    "# Variete des donnees\n",
    "grouped = data.groupby('lang').count().sort_values('content')\n",
    "print(\"Quantite de sample par extension :\")\n",
    "print(grouped[-20:])\n",
    "print()"
   ]
  },
  {
   "cell_type": "markdown",
   "metadata": {},
   "source": [
    "### Filtrage des donnees"
   ]
  },
  {
   "cell_type": "markdown",
   "metadata": {},
   "source": [
    "Nous choisissons de reduire les code trop long et de ne prendre que les langages les plus populaires."
   ]
  },
  {
   "cell_type": "code",
   "execution_count": 4,
   "metadata": {},
   "outputs": [
    {
     "name": "stdout",
     "output_type": "stream",
     "text": [
      "(681919, 2)\n",
      "(188200, 2)\n"
     ]
    }
   ],
   "source": [
    "\n",
    "#Reduire taille trop grande\n",
    "print(data.shape)\n",
    "len_cond = [True if 20<=len(s)<=10000 else False for s in data['content']]\n",
    "data = data[len_cond]\n",
    "\n",
    "# Filtrer\n",
    "lang = ['js','cs', 'java', 'php', 'py', 'c', 'sh', 'cpp', 'swift']\n",
    "data = data[data['lang'].isin(lang)]\n",
    "\n",
    "data_trim= pd.DataFrame(data=data)\n",
    "\n",
    "# Melanger\n",
    "print(data.shape)\n",
    "data_shuffle = data_trim.sample(frac=1)"
   ]
  },
  {
   "cell_type": "code",
   "execution_count": 49,
   "metadata": {},
   "outputs": [],
   "source": [
    "def load_subSets(X, ratio_train, ratio_valid):\n",
    "    ratio_test = 1 - ratio_train - ratio_valid #\n",
    "    assert(ratio_test>0)\n",
    "    Ntot   = X.shape[0]\n",
    "    Ntrain = int(ratio_train*Ntot)\n",
    "    Nvalid = int(ratio_valid*Ntot)\n",
    "    Ntest  = Ntot - Ntrain - Nvalid\n",
    "    train = X[0: Ntrain].copy()\n",
    "    valid = X[Ntrain:Ntrain+Nvalid].copy() # X[-Ntest:] est equivalent\n",
    "    test  = X[-Ntest:].copy()\n",
    "    return train, valid, test\n",
    "\n",
    "ratio_train = 0.6\n",
    "ratio_valid = 0.3\n",
    "\n",
    "train, valid, test = load_subSets(data_shuffle, ratio_train, ratio_valid)\n"
   ]
  },
  {
   "cell_type": "code",
   "execution_count": 6,
   "metadata": {},
   "outputs": [
    {
     "name": "stdout",
     "output_type": "stream",
     "text": [
      "taille du training :  112920\n",
      "taille du validation :  56460\n",
      "\n",
      "Quantite de sample par langage :\n",
      "       content\n",
      "lang          \n",
      "swift     6273\n",
      "cpp       6573\n",
      "sh        7477\n",
      "c         9960\n",
      "py       19486\n",
      "cs       22891\n",
      "php      27012\n",
      "java     39064\n",
      "js       49464\n",
      "\n",
      "Pourcentage de sample par langage :\n",
      "        content\n",
      "lang           \n",
      "swift  0.033332\n",
      "cpp    0.034926\n",
      "sh     0.039729\n",
      "c      0.052922\n",
      "py     0.103539\n",
      "cs     0.121631\n",
      "php    0.143528\n",
      "java   0.207566\n",
      "js     0.262827\n"
     ]
    }
   ],
   "source": [
    "print(\"taille du training : \",train.shape[0])\n",
    "print(\"taille du validation : \",valid.shape[0])\n",
    "print()\n",
    "\n",
    "# Variete des donnees\n",
    "grouped = data_trim.groupby('lang').count().sort_values('content')\n",
    "print(\"Quantite de sample par langage :\")\n",
    "print(grouped)\n",
    "print()\n",
    "print(\"Pourcentage de sample par langage :\")\n",
    "print(grouped.div(data_trim.shape[0]))"
   ]
  },
  {
   "cell_type": "code",
   "execution_count": 7,
   "metadata": {},
   "outputs": [
    {
     "name": "stdout",
     "output_type": "stream",
     "text": [
      "['00', '000', '0000', '00000', '000000', '00000000', '000000000', '0000000000', '000000000000', '0000000000000000']\n",
      "sklearn\n",
      "[('the', 125643), ('public', 114142), ('this', 79642), ('import', 75274), ('return', 73159), ('license', 70523), ('function', 64428), ('class', 62710), ('var', 46389), ('string', 45987)]\n"
     ]
    }
   ],
   "source": [
    "#Donnes Vectorisees et Assignee suivant Frequences\n",
    "#On utilisera des pipeline par la suite\n",
    "\n",
    "count_vect = CountVectorizer()\n",
    "X_train_counts = count_vect.fit_transform(train[\"content\"])\n",
    "\n",
    "print(count_vect.get_feature_names()[0:10])#Affiches les premiers mots\n",
    "\n",
    "skline = count_vect.vocabulary_.get(u'sklearn')#Affiche indice de sklearn\n",
    "print(count_vect.get_feature_names()[skline])#affiche sklearn\n",
    "\n",
    "tf_transformer = TfidfTransformer().fit(X_train_counts)\n",
    "X_train_tf = tf_transformer.transform(X_train_counts)\n",
    "\n",
    "#Mots les plus frequents\n",
    "\n",
    "sum_words = X_train_counts.sum(axis=0) \n",
    "words_freq = [(word, sum_words[0, idx]) for word, idx in count_vect.vocabulary_.items()]\n",
    "words_freq =sorted(words_freq, key = lambda x: x[1], reverse=True)\n",
    "print(words_freq[:10])\n"
   ]
  },
  {
   "cell_type": "markdown",
   "metadata": {},
   "source": [
    "# Training avec Modeles"
   ]
  },
  {
   "cell_type": "markdown",
   "metadata": {},
   "source": [
    "#### Comparaison modeles"
   ]
  },
  {
   "cell_type": "code",
   "execution_count": 8,
   "metadata": {},
   "outputs": [],
   "source": [
    "from sklearn.model_selection import train_test_split\n",
    "from sklearn.preprocessing import StandardScaler\n",
    "from sklearn.datasets import make_moons, make_circles, make_classification\n",
    "from sklearn.neural_network import MLPClassifier\n",
    "from sklearn.neighbors import KNeighborsClassifier\n",
    "from sklearn.svm import SVC\n",
    "from sklearn.gaussian_process import GaussianProcessClassifier\n",
    "from sklearn.gaussian_process.kernels import RBF\n",
    "from sklearn.tree import DecisionTreeClassifier\n",
    "from sklearn.ensemble import RandomForestClassifier, AdaBoostClassifier\n",
    "from sklearn.naive_bayes import GaussianNB\n",
    "from sklearn.discriminant_analysis import QuadraticDiscriminantAnalysis\n",
    "from sklearn.naive_bayes import MultinomialNB\n",
    "from sklearn.linear_model import SGDClassifier"
   ]
  },
  {
   "cell_type": "code",
   "execution_count": 9,
   "metadata": {},
   "outputs": [
    {
     "name": "stdout",
     "output_type": "stream",
     "text": [
      "Training ... ( 1 / 6 )\n",
      "Training ... ( 2 / 6 )\n",
      "Training ... ( 3 / 6 )\n",
      "Training ... ( 4 / 6 )\n"
     ]
    },
    {
     "name": "stderr",
     "output_type": "stream",
     "text": [
      "C:\\Users\\kilca\\anaconda3\\lib\\site-packages\\sklearn\\svm\\_base.py:255: ConvergenceWarning: Solver terminated early (max_iter=8).  Consider pre-processing your data with StandardScaler or MinMaxScaler.\n",
      "  warnings.warn('Solver terminated early (max_iter=%i).'\n"
     ]
    },
    {
     "name": "stdout",
     "output_type": "stream",
     "text": [
      "Training ... ( 5 / 6 )\n",
      "Training ... ( 6 / 6 )\n",
      "duration :  296.2113184928894\n"
     ]
    },
    {
     "data": {
      "text/html": [
       "<div>\n",
       "<style scoped>\n",
       "    .dataframe tbody tr th:only-of-type {\n",
       "        vertical-align: middle;\n",
       "    }\n",
       "\n",
       "    .dataframe tbody tr th {\n",
       "        vertical-align: top;\n",
       "    }\n",
       "\n",
       "    .dataframe thead th {\n",
       "        text-align: right;\n",
       "    }\n",
       "</style>\n",
       "<table border=\"1\" class=\"dataframe\">\n",
       "  <thead>\n",
       "    <tr style=\"text-align: right;\">\n",
       "      <th></th>\n",
       "      <th>SGD Classif</th>\n",
       "      <th>MultiBayes</th>\n",
       "      <th>AdaBoost</th>\n",
       "      <th>RBF SVM</th>\n",
       "      <th>Decision Tree</th>\n",
       "      <th>Random Forest</th>\n",
       "    </tr>\n",
       "  </thead>\n",
       "  <tbody>\n",
       "    <tr>\n",
       "      <th>train score</th>\n",
       "      <td>0.933324</td>\n",
       "      <td>0.872954</td>\n",
       "      <td>0.776612</td>\n",
       "      <td>0.156987</td>\n",
       "      <td>0.702223</td>\n",
       "      <td>0.263913</td>\n",
       "    </tr>\n",
       "    <tr>\n",
       "      <th>test score</th>\n",
       "      <td>0.932572</td>\n",
       "      <td>0.840011</td>\n",
       "      <td>0.771785</td>\n",
       "      <td>0.170510</td>\n",
       "      <td>0.699416</td>\n",
       "      <td>0.261690</td>\n",
       "    </tr>\n",
       "  </tbody>\n",
       "</table>\n",
       "</div>"
      ],
      "text/plain": [
       "             SGD Classif  MultiBayes  AdaBoost   RBF SVM  Decision Tree  \\\n",
       "train score     0.933324    0.872954  0.776612  0.156987       0.702223   \n",
       "test score      0.932572    0.840011  0.771785  0.170510       0.699416   \n",
       "\n",
       "             Random Forest  \n",
       "train score       0.263913  \n",
       "test score        0.261690  "
      ]
     },
     "metadata": {},
     "output_type": "display_data"
    }
   ],
   "source": [
    "#[!] Attention ce script prend BEAUCOUP de temps\n",
    "#Lance un warning mais pas important\n",
    "import time\n",
    "\n",
    "\n",
    "names = [\n",
    "        \"SGD Classif\",\n",
    "        \"MultiBayes\",\n",
    "        \"AdaBoost\",\n",
    "        \"RBF SVM\",\n",
    "         \"Decision Tree\",\n",
    "        \"Random Forest\"\n",
    "]\n",
    "\n",
    "classifiers = [\n",
    "    SGDClassifier(max_iter=5, tol=None, alpha=0.001),#good\n",
    "    MultinomialNB(),#good\n",
    "    AdaBoostClassifier(n_estimators=5),# ok\n",
    "    SVC(gamma=2, C=1, max_iter=8),#ok tres long\n",
    "    DecisionTreeClassifier(max_depth=3),#ok\n",
    "    RandomForestClassifier(max_depth=3, n_estimators=10, max_features=1)#ok\n",
    "    \n",
    "]\n",
    "\n",
    "trainScore = []\n",
    "validScore = []\n",
    "i =1\n",
    "\n",
    "t0 = time.time()\n",
    "for name, clff in zip(names, classifiers):\n",
    "    print(\"Training ... (\",i,\"/\",len(classifiers),\")\")\n",
    "    clf = Pipeline([\n",
    "    ('vect', CountVectorizer()),\n",
    "    ('tfidf', TfidfTransformer()),\n",
    "    ('clf', clff),\n",
    "    ])\n",
    "    clf.fit(train[\"content\"],train[\"lang\"])\n",
    "    score = clf.score(train[\"content\"], train[\"lang\"])\n",
    "    trainScore.append(clf.score(train[\"content\"],train[\"lang\"]))\n",
    "    validScore.append(clf.score(test[\"content\"],test[\"lang\"]))\n",
    "    i = i+1\n",
    "\n",
    "\n",
    "t1 = time.time()\n",
    "total = t1-t0\n",
    "print(\"duration : \",total)\n",
    "data= [trainScore, validScore]\n",
    "ptable = pd.DataFrame(data, columns=names,index=[\"train score\",\"test score\"])\n",
    "display(ptable)"
   ]
  },
  {
   "cell_type": "markdown",
   "metadata": {},
   "source": [
    "Nous voyons donc que les modeles SGD et MultiNB sont les meilleurs, nous choisirons donc de prendre le modele SGD puisqu'il offre une large quantité d'hyperparametre et un tres bon score."
   ]
  },
  {
   "cell_type": "markdown",
   "metadata": {},
   "source": [
    "# Recherche hyperparametre sur SGD Classifier :"
   ]
  },
  {
   "cell_type": "markdown",
   "metadata": {},
   "source": [
    "#### Nos Recherches ([!] Prend beaucoup de temps)"
   ]
  },
  {
   "cell_type": "code",
   "execution_count": 10,
   "metadata": {},
   "outputs": [
    {
     "name": "stdout",
     "output_type": "stream",
     "text": [
      "score des tests :\n",
      "[0.9820580942260007, 0.9697839178179242, 0.9338292596528516, 0.8987956075097414, 0.4544987601842012, 0.458147360963514, 0.4393730074388948]\n"
     ]
    },
    {
     "data": {
      "text/plain": [
       "<matplotlib.legend.Legend at 0x217bf432ca0>"
      ]
     },
     "execution_count": 10,
     "metadata": {},
     "output_type": "execute_result"
    },
    {
     "data": {
      "image/png": "[encoded data removed]",
      "text/plain": [
       "<Figure size 432x432 with 1 Axes>"
      ]
     },
     "metadata": {
      "needs_background": "light"
     },
     "output_type": "display_data"
    }
   ],
   "source": [
    "#PS : use_idf ou non change pas bcp\n",
    "#Changement d'alpha\n",
    "\n",
    "alpha_range = [0.00001,0.0001,0.001,0.01,0.1,1.0,2.0]\n",
    "\n",
    "trainList = []\n",
    "testList = []\n",
    "\n",
    "for A in alpha_range:\n",
    "    clf = Pipeline([\n",
    "        ('vect', CountVectorizer()),\n",
    "        ('tfidf', TfidfTransformer()),\n",
    "        ('clf', SGDClassifier(loss='hinge', penalty='l2',\n",
    "                        random_state=42,alpha=A,\n",
    "                          max_iter=5, tol=None)),\n",
    "    ])\n",
    "\n",
    "    clf = clf.fit(train[\"content\"],train[\"lang\"])\n",
    "    trainList.append(clf.score(train[\"content\"],train[\"lang\"]))\n",
    "    testList.append(clf.score(valid[\"content\"],valid[\"lang\"]))\n",
    "\n",
    "print(\"score des tests :\")\n",
    "print(testList)\n",
    "\n",
    "fig, ax = plt.subplots(1, 1, figsize=(6, 6))\n",
    "plt.xlim(0,2)\n",
    "ax.set_ylim([0,1])\n",
    "plt.xticks(range(0,3))\n",
    "ax.set_title('train and validation variation from alpha');\n",
    "plt.xlabel('alpha')\n",
    "plt.ylabel('score') \n",
    "ax.plot(alpha_range,testList, label=\"validation score\")\n",
    "ax.plot(alpha_range,trainList, label=\"train score\")\n",
    "ax.legend()"
   ]
  },
  {
   "cell_type": "code",
   "execution_count": 11,
   "metadata": {},
   "outputs": [
    {
     "data": {
      "text/html": [
       "<div>\n",
       "<style scoped>\n",
       "    .dataframe tbody tr th:only-of-type {\n",
       "        vertical-align: middle;\n",
       "    }\n",
       "\n",
       "    .dataframe tbody tr th {\n",
       "        vertical-align: top;\n",
       "    }\n",
       "\n",
       "    .dataframe thead th {\n",
       "        text-align: right;\n",
       "    }\n",
       "</style>\n",
       "<table border=\"1\" class=\"dataframe\">\n",
       "  <thead>\n",
       "    <tr style=\"text-align: right;\">\n",
       "      <th></th>\n",
       "      <th>hinge</th>\n",
       "      <th>log</th>\n",
       "      <th>modified_huber</th>\n",
       "      <th>squared_hinge</th>\n",
       "      <th>perceptron</th>\n",
       "    </tr>\n",
       "  </thead>\n",
       "  <tbody>\n",
       "    <tr>\n",
       "      <th>train score</th>\n",
       "      <td>0.975452</td>\n",
       "      <td>0.932483</td>\n",
       "      <td>0.987292</td>\n",
       "      <td>0.896998</td>\n",
       "      <td>0.999416</td>\n",
       "    </tr>\n",
       "    <tr>\n",
       "      <th>validation score</th>\n",
       "      <td>0.969784</td>\n",
       "      <td>0.937053</td>\n",
       "      <td>0.976691</td>\n",
       "      <td>0.912274</td>\n",
       "      <td>0.979508</td>\n",
       "    </tr>\n",
       "  </tbody>\n",
       "</table>\n",
       "</div>"
      ],
      "text/plain": [
       "                     hinge       log  modified_huber  squared_hinge  \\\n",
       "train score       0.975452  0.932483        0.987292       0.896998   \n",
       "validation score  0.969784  0.937053        0.976691       0.912274   \n",
       "\n",
       "                  perceptron  \n",
       "train score         0.999416  \n",
       "validation score    0.979508  "
      ]
     },
     "metadata": {},
     "output_type": "display_data"
    }
   ],
   "source": [
    "#Loss\n",
    "loss_range = ['hinge','log','modified_huber','squared_hinge','perceptron']\n",
    "\n",
    "\n",
    "trainList = []\n",
    "testList = []\n",
    "\n",
    "for L in loss_range:\n",
    "    clf = Pipeline([\n",
    "        ('vect', CountVectorizer()),\n",
    "        ('tfidf', TfidfTransformer()),\n",
    "        ('clf', SGDClassifier(loss=L, penalty='l2',\n",
    "                        random_state=42,\n",
    "                          max_iter=5,tol=None)),\n",
    "    ])\n",
    "\n",
    "    clf = clf.fit(train[\"content\"],train[\"lang\"])\n",
    "    trainList.append(clf.score(train[\"content\"],train[\"lang\"]))\n",
    "    testList.append(clf.score(valid[\"content\"],valid[\"lang\"]))\n",
    "\n",
    "ptable = pd.DataFrame([trainList,testList], columns=loss_range,index=[\"train score\",\"validation score\"])\n",
    "display(ptable)"
   ]
  },
  {
   "cell_type": "code",
   "execution_count": 12,
   "metadata": {},
   "outputs": [
    {
     "data": {
      "text/html": [
       "<div>\n",
       "<style scoped>\n",
       "    .dataframe tbody tr th:only-of-type {\n",
       "        vertical-align: middle;\n",
       "    }\n",
       "\n",
       "    .dataframe tbody tr th {\n",
       "        vertical-align: top;\n",
       "    }\n",
       "\n",
       "    .dataframe thead th {\n",
       "        text-align: right;\n",
       "    }\n",
       "</style>\n",
       "<table border=\"1\" class=\"dataframe\">\n",
       "  <thead>\n",
       "    <tr style=\"text-align: right;\">\n",
       "      <th></th>\n",
       "      <th>l2</th>\n",
       "      <th>l1</th>\n",
       "      <th>elasticnet</th>\n",
       "    </tr>\n",
       "  </thead>\n",
       "  <tbody>\n",
       "    <tr>\n",
       "      <th>train score</th>\n",
       "      <td>0.975452</td>\n",
       "      <td>0.957262</td>\n",
       "      <td>0.964515</td>\n",
       "    </tr>\n",
       "    <tr>\n",
       "      <th>validation score</th>\n",
       "      <td>0.969784</td>\n",
       "      <td>0.956837</td>\n",
       "      <td>0.963868</td>\n",
       "    </tr>\n",
       "  </tbody>\n",
       "</table>\n",
       "</div>"
      ],
      "text/plain": [
       "                        l2        l1  elasticnet\n",
       "train score       0.975452  0.957262    0.964515\n",
       "validation score  0.969784  0.956837    0.963868"
      ]
     },
     "metadata": {},
     "output_type": "display_data"
    }
   ],
   "source": [
    "#Penalty\n",
    "\n",
    "penalty_range = ['l2','l1','elasticnet']\n",
    "\n",
    "trainList = []\n",
    "testList = []\n",
    "\n",
    "for P in penalty_range:\n",
    "    clf = Pipeline([\n",
    "        ('vect', CountVectorizer()),\n",
    "        ('tfidf', TfidfTransformer()),\n",
    "        ('clf', SGDClassifier(loss='hinge', penalty=P,\n",
    "                        random_state=42,\n",
    "                          max_iter=5,tol=None)),\n",
    "    ])\n",
    "\n",
    "    clf = clf.fit(train[\"content\"],train[\"lang\"])\n",
    "    trainList.append(clf.score(train[\"content\"],train[\"lang\"]))\n",
    "    testList.append(clf.score(valid[\"content\"],valid[\"lang\"]))\n",
    "    \n",
    "ptable = pd.DataFrame([trainList,testList], columns=penalty_range,index=[\"train score\",\"validation score\"])\n",
    "display(ptable)\n"
   ]
  },
  {
   "cell_type": "markdown",
   "metadata": {},
   "source": [
    "#### Recherche avec GridSearchCV"
   ]
  },
  {
   "cell_type": "code",
   "execution_count": 13,
   "metadata": {},
   "outputs": [],
   "source": [
    "from sklearn.model_selection import GridSearchCV"
   ]
  },
  {
   "cell_type": "code",
   "execution_count": 14,
   "metadata": {},
   "outputs": [
    {
     "name": "stdout",
     "output_type": "stream",
     "text": [
      "Fin du train\n"
     ]
    }
   ],
   "source": [
    "#Prend enormement de temps\n",
    "\n",
    "classifier = SGDClassifier()\n",
    "\n",
    "param = {'loss' : ['hinge','modified_huber','perceptron'], \n",
    "         'penalty' : ['l2'], \n",
    "         'random_state' : [42], \n",
    "         'max_iter' : [5],\n",
    "         'tol' : [None], \n",
    "         'alpha' : [0.000001,0.00001,0.0001,0.001]}\n",
    "gscv = GridSearchCV(classifier, param)\n",
    "\n",
    "clf = Pipeline([\n",
    "    ('vect', CountVectorizer()),\n",
    "    ('tfidf', TfidfTransformer()),\n",
    "    ('clf', gscv),\n",
    "])\n",
    "clf = clf.fit(train[\"content\"], train[\"lang\"])\n",
    "print(\"Fin du train\")"
   ]
  },
  {
   "cell_type": "code",
   "execution_count": 15,
   "metadata": {},
   "outputs": [
    {
     "name": "stdout",
     "output_type": "stream",
     "text": [
      "Meilleurs hyperparametres trouves :\n",
      "{'alpha': 1e-05, 'loss': 'modified_huber', 'max_iter': 5, 'penalty': 'l2', 'random_state': 42, 'tol': None}\n",
      "\n",
      "\n"
     ]
    },
    {
     "data": {
      "image/png": "[encoded data removed]",
      "text/plain": [
       "<Figure size 432x288 with 2 Axes>"
      ]
     },
     "metadata": {},
     "output_type": "display_data"
    }
   ],
   "source": [
    "import numpy as np\n",
    "import matplotlib.pyplot as plt\n",
    "import seaborn as sn\n",
    "\n",
    "print(\"Meilleurs hyperparametres trouves :\")\n",
    "print(gscv.best_params_)\n",
    "print()\n",
    "print()\n",
    "\n",
    "values = []\n",
    "\n",
    "columns = ['hinge','modified_huber','perceptron']\n",
    "\n",
    "i=0\n",
    "for a in np.unique(gscv.cv_results_['param_alpha']):\n",
    "    valY = []\n",
    "    for l in np.unique(gscv.cv_results_['param_loss']):\n",
    "        valY.append(gscv.cv_results_['mean_test_score'][i])\n",
    "        i = i+1\n",
    "    values.append(valY)\n",
    "\n",
    "    \n",
    "ptable = pd.DataFrame(values, columns=columns,index=[0.000001,0.00001,0.0001,0.001])\n",
    "\n",
    "# plt.figure(figsize=(10,7))\n",
    "sn.set(font_scale=1.4) # for label size\n",
    "sn.heatmap(ptable, annot=True, annot_kws={\"size\": 16},fmt='g') # font size\n",
    "plt.xlabel(\"loss type\")\n",
    "plt.ylabel(\"alpha\")\n",
    "plt.title(\"validation score des loss en fonction des alphas\")\n",
    "plt.show()"
   ]
  },
  {
   "cell_type": "markdown",
   "metadata": {},
   "source": [
    "Nous choisirons donc\n",
    "- un alpha de 0.00001 afin de s'assurer d'un bon score sans trop diminuer pour eviter l'overfit\n",
    "- un loss function de type : 'modified huber'\n",
    "- une penalty de type : 'l2'"
   ]
  },
  {
   "cell_type": "code",
   "execution_count": 51,
   "metadata": {},
   "outputs": [
    {
     "name": "stdout",
     "output_type": "stream",
     "text": [
      "train score : 0.9988575982996812\n",
      "valid score : 0.9834218916046759\n",
      "test score : 0.9821466524973432\n"
     ]
    }
   ],
   "source": [
    "#Choisi :\n",
    "clf = Pipeline([\n",
    "    ('vect', CountVectorizer()),\n",
    "    ('tfidf', TfidfTransformer()),\n",
    "    ('clf', SGDClassifier(alpha=0.00001,loss='modified_huber', penalty='l2',\n",
    "                        random_state=42,\n",
    "                          max_iter=5,tol=None)),\n",
    "])\n",
    "clf = clf.fit(train[\"content\"], train[\"lang\"])\n",
    "\n",
    "print(\"train score :\",clf.score(train[\"content\"],train[\"lang\"]))\n",
    "print(\"valid score :\",clf.score(valid[\"content\"],valid[\"lang\"]))\n",
    "print(\"test score :\",clf.score(test[\"content\"],test[\"lang\"]))"
   ]
  },
  {
   "cell_type": "markdown",
   "metadata": {},
   "source": [
    "# Analyse des resultat et des metriques"
   ]
  },
  {
   "cell_type": "code",
   "execution_count": 17,
   "metadata": {},
   "outputs": [
    {
     "name": "stdout",
     "output_type": "stream",
     "text": [
      "differents scores cross_validate : \n",
      "[0.98109281 0.98255402 0.9834396  0.98286397 0.9815356 ]\n",
      "moyenne des scores : 0.9822972015586255\n",
      "train score : 0.9988575982996812\n",
      "valid score :  0.9834218916046759\n"
     ]
    }
   ],
   "source": [
    "#Prend pas mal de temps\n",
    "\n",
    "from sklearn import datasets, linear_model\n",
    "from sklearn.model_selection import cross_validate\n",
    "from sklearn.metrics import make_scorer\n",
    "from sklearn.metrics import confusion_matrix\n",
    "\n",
    "import numpy as np\n",
    "\n",
    "from sklearn.model_selection import KFold, cross_val_score\n",
    "\n",
    "scores = cross_val_score(\n",
    "    clf, train[\"content\"], train[\"lang\"], cv=5)\n",
    "\n",
    "print(\"differents scores cross_validate : \")\n",
    "print(scores)\n",
    "print(\"moyenne des scores :\",np.mean(scores))\n",
    "\n",
    "print(\"train score :\",clf.score(train[\"content\"],train[\"lang\"]))\n",
    "print(\"valid score : \",clf.score(valid[\"content\"],valid[\"lang\"]))"
   ]
  },
  {
   "cell_type": "code",
   "execution_count": 18,
   "metadata": {},
   "outputs": [
    {
     "name": "stdout",
     "output_type": "stream",
     "text": [
      "{'fit_time': array([16.48648858, 14.29972863, 13.68614244, 13.53668189, 13.29801917]), 'score_time': array([3.00511456, 2.39835119, 2.07936692, 2.13546824, 2.2846849 ]), 'test_score': array([0.98109281, 0.98255402, 0.9834396 , 0.98286397, 0.9815356 ]), 'train_score': array([0.99909228, 0.99908121, 0.99910335, 0.99897051, 0.99914763])}\n"
     ]
    }
   ],
   "source": [
    "#Attention prend beaucoup de temps\n",
    "\n",
    "cross_v = cross_validate(clf, train[\"content\"], train[\"lang\"], cv=5, return_train_score=True)\n",
    "print(cross_v)"
   ]
  },
  {
   "cell_type": "code",
   "execution_count": 19,
   "metadata": {},
   "outputs": [
    {
     "data": {
      "text/plain": [
       "<matplotlib.legend.Legend at 0x217d83c03a0>"
      ]
     },
     "execution_count": 19,
     "metadata": {},
     "output_type": "execute_result"
    },
    {
     "data": {
      "image/png": "[encoded data removed]",
      "text/plain": [
       "<Figure size 432x432 with 1 Axes>"
      ]
     },
     "metadata": {},
     "output_type": "display_data"
    }
   ],
   "source": [
    "fig, ax = plt.subplots(1, 1, figsize=(6, 6))\n",
    "ax.set_ylim([0,1])\n",
    "plt.xticks(range(0,4))\n",
    "ax.plot(cross_v['test_score'],label = \"test_score\")\n",
    "ax.set_title('test_score and train_score validation croisee');\n",
    "ax.plot(cross_v['train_score'], label=\"train score\")\n",
    "ax.legend()"
   ]
  },
  {
   "cell_type": "code",
   "execution_count": 52,
   "metadata": {},
   "outputs": [],
   "source": [
    "y_true = test[\"lang\"]\n",
    "y_pred = clf.predict(test[\"content\"])"
   ]
  },
  {
   "cell_type": "code",
   "execution_count": 63,
   "metadata": {},
   "outputs": [
    {
     "data": {
      "image/png": "[encoded data removed]",
      "text/plain": [
       "<Figure size 720x720 with 2 Axes>"
      ]
     },
     "metadata": {},
     "output_type": "display_data"
    }
   ],
   "source": [
    "\n",
    "# Matrice de confusion\n",
    "#print(confusion_matrix(y_true, y_pred, labels=lang))\n",
    "fig, ax = plt.subplots(figsize=(10, 10))\n",
    "plot_confusion_matrix(clf, train[\"content\"], train[\"lang\"], ax=ax)\n",
    "plt.grid(False)\n",
    "plt.show()"
   ]
  },
  {
   "cell_type": "code",
   "execution_count": 22,
   "metadata": {},
   "outputs": [
    {
     "name": "stdout",
     "output_type": "stream",
     "text": [
      "0.9801567566102147\n"
     ]
    }
   ],
   "source": [
    "#MCC\n",
    "from sklearn.metrics import matthews_corrcoef\n",
    "mcc = matthews_corrcoef(y_true,y_pred)\n",
    "print(mcc)"
   ]
  },
  {
   "cell_type": "code",
   "execution_count": 23,
   "metadata": {},
   "outputs": [
    {
     "name": "stdout",
     "output_type": "stream",
     "text": [
      "              precision    recall  f1-score   support\n",
      "\n",
      "          js       0.93      0.96      0.94      2989\n",
      "          cs       0.94      0.87      0.90      1931\n",
      "        java       0.99      1.00      0.99      6835\n",
      "         php       0.99      1.00      0.99     11677\n",
      "          py       0.99      0.99      0.99     14745\n",
      "           c       0.99      0.99      0.99      8170\n",
      "          sh       0.98      0.98      0.98      5968\n",
      "         cpp       0.98      0.97      0.97      2295\n",
      "       swift       1.00      0.98      0.99      1850\n",
      "\n",
      "    accuracy                           0.98     56460\n",
      "   macro avg       0.98      0.97      0.97     56460\n",
      "weighted avg       0.98      0.98      0.98     56460\n",
      "\n"
     ]
    }
   ],
   "source": [
    "y_true =  valid[\"lang\"]\n",
    "y_pred = clf.predict(valid[\"content\"])\n",
    "target_names = lang\n",
    "print(classification_report(y_true, y_pred, target_names=target_names))"
   ]
  },
  {
   "cell_type": "markdown",
   "metadata": {},
   "source": [
    "## Tests persos"
   ]
  },
  {
   "cell_type": "code",
   "execution_count": 24,
   "metadata": {},
   "outputs": [
    {
     "data": {
      "text/plain": [
       "'java'"
      ]
     },
     "execution_count": 24,
     "metadata": {},
     "output_type": "execute_result"
    }
   ],
   "source": [
    "clf.predict([\n",
    "\"public class Main{ \\\n",
    "    public static void main(String[] args) {\\\n",
    "    System.out.println(\\\"blabla\\\");\\\n",
    "    }\"\n",
    "    ])[0]"
   ]
  },
  {
   "cell_type": "code",
   "execution_count": 25,
   "metadata": {},
   "outputs": [
    {
     "data": {
      "text/plain": [
       "'cpp'"
      ]
     },
     "execution_count": 25,
     "metadata": {},
     "output_type": "execute_result"
    }
   ],
   "source": [
    "clf.predict([\n",
    "\"\\\n",
    "#include <iostream>\\\n",
    "#define e using\\\n",
    "#define ee namespace\\\n",
    "#define eee std\\\n",
    "#define eeee ;\\\n",
    "#define eeeee int\\\n",
    "#define eeeeee main\\\n",
    "#define eeeeeee (\\\n",
    "#define eeeeeeee )\\\n",
    "#define eeeeeeeee while\\\n",
    "#define eeeeeeeeee true\\\n",
    "#define eeeeeeeeeee {\\\n",
    "#define eeeeeeeeeeee }\\\n",
    "#define eeeeeeeeeeeee cout\\\n",
    "#define eeeeeeeeeeeeee cerr\\\n",
    "#define eeeeeeeeeeeeeee <<\\\n",
    "#define eeeeeeeeeeeeeeee 'e'\\\n",
    "#define eeeeeeeeeeeeeeeee return\\\n",
    "\\\n",
    "e ee eee eeee\\\n",
    "eeeee eeeeee eeeeeee eeeeeeee\\\n",
    "eeeeeeeeeee\\\n",
    "eeeeeeeee eeeeeee eeeeeeeeee eeeeeeee\\\n",
    "eeeeeeeeeee\\\n",
    "eeeeeeeeeeeee eeeeeeeeeeeeeee eeeeeeeeeeeeeeee eeee\\\n",
    "eeeeeeeeeeeeee eeeeeeeeeeeeeee eeeeeeeeeeeeeeee eeee\\\n",
    "eeeeeeeeeeee\\\n",
    "eeeeeeeeeeeeeeeee eeeeeeeeeeeeeeee eeee\\\n",
    "eeeeeeeeeeee\"\n",
    "    ])[0]"
   ]
  },
  {
   "cell_type": "code",
   "execution_count": null,
   "metadata": {},
   "outputs": [],
   "source": []
  }
 ],
 "metadata": {
  "kernelspec": {
   "display_name": "Python 3",
   "language": "python",
   "name": "python3"
  },
  "language_info": {
   "codemirror_mode": {
    "name": "ipython",
    "version": 3
   },
   "file_extension": ".py",
   "mimetype": "text/x-python",
   "name": "python",
   "nbconvert_exporter": "python",
   "pygments_lexer": "ipython3",
   "version": "3.8.3"
  }
 },
 "nbformat": 4,
 "nbformat_minor": 4
}
