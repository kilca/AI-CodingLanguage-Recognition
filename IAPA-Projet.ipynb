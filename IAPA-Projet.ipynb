{
 "cells": [
  {
   "cell_type": "markdown",
   "metadata": {},
   "source": [
    "Kilian Cannet - Noe Boonstra"
   ]
  },
  {
   "cell_type": "markdown",
   "metadata": {},
   "source": [
    "# Importation"
   ]
  },
  {
   "cell_type": "code",
   "execution_count": 15,
   "metadata": {},
   "outputs": [],
   "source": [
    "import pandas as pd\n",
    "from sklearn.feature_extraction.text import CountVectorizer\n",
    "from sklearn.pipeline import Pipeline\n",
    "from sklearn.feature_extraction.text import TfidfTransformer\n",
    "from sklearn.metrics import classification_report, confusion_matrix, plot_confusion_matrix\n",
    "from sklearn.model_selection import GridSearchCV\n",
    "\n",
    "from sklearn.naive_bayes import MultinomialNB\n",
    "from sklearn.linear_model import SGDClassifier\n",
    "\n",
    "import matplotlib.pyplot as plt"
   ]
  },
  {
   "cell_type": "markdown",
   "metadata": {},
   "source": [
    "# Chargement données"
   ]
  },
  {
   "cell_type": "code",
   "execution_count": 16,
   "metadata": {},
   "outputs": [
    {
     "data": {
      "text/html": [
       "<div>\n",
       "<style scoped>\n",
       "    .dataframe tbody tr th:only-of-type {\n",
       "        vertical-align: middle;\n",
       "    }\n",
       "\n",
       "    .dataframe tbody tr th {\n",
       "        vertical-align: top;\n",
       "    }\n",
       "\n",
       "    .dataframe thead th {\n",
       "        text-align: right;\n",
       "    }\n",
       "</style>\n",
       "<table border=\"1\" class=\"dataframe\">\n",
       "  <thead>\n",
       "    <tr style=\"text-align: right;\">\n",
       "      <th></th>\n",
       "      <th>content</th>\n",
       "      <th>lang</th>\n",
       "    </tr>\n",
       "  </thead>\n",
       "  <tbody>\n",
       "    <tr>\n",
       "      <th>0</th>\n",
       "      <td>content</td>\n",
       "      <td>type</td>\n",
       "    </tr>\n",
       "    <tr>\n",
       "      <th>1</th>\n",
       "      <td>// Utility.cs\\n//\\n\\nusing System;\\nusing Syst...</td>\n",
       "      <td>cs</td>\n",
       "    </tr>\n",
       "    <tr>\n",
       "      <th>2</th>\n",
       "      <td>\\n{$options.identity.sitename} - Your Accounts...</td>\n",
       "      <td>txt</td>\n",
       "    </tr>\n",
       "    <tr>\n",
       "      <th>3</th>\n",
       "      <td>{\\n  \"name\": \"opulence/sessions\",\\n  \"descript...</td>\n",
       "      <td>json</td>\n",
       "    </tr>\n",
       "    <tr>\n",
       "      <th>4</th>\n",
       "      <td>package io.mycat.backend.postgresql.packet;\\r\\...</td>\n",
       "      <td>java</td>\n",
       "    </tr>\n",
       "    <tr>\n",
       "      <th>5</th>\n",
       "      <td>TAPi18n._afterUILanguageChange = function() {\\...</td>\n",
       "      <td>js</td>\n",
       "    </tr>\n",
       "    <tr>\n",
       "      <th>6</th>\n",
       "      <td>filter:\\n    paths: [\"src/*\"]\\ntools:\\n    ext...</td>\n",
       "      <td>yml</td>\n",
       "    </tr>\n",
       "    <tr>\n",
       "      <th>7</th>\n",
       "      <td>/**\\n * \\n */\\npackage org.openrtb.dsp.intf.mo...</td>\n",
       "      <td>java</td>\n",
       "    </tr>\n",
       "    <tr>\n",
       "      <th>8</th>\n",
       "      <td>{% extends \"json/page.json\" %}\\n{% block title...</td>\n",
       "      <td>json</td>\n",
       "    </tr>\n",
       "    <tr>\n",
       "      <th>9</th>\n",
       "      <td>&lt;?php\\n\\nnamespace JMS\\SecurityExtraBundle\\Sec...</td>\n",
       "      <td>php</td>\n",
       "    </tr>\n",
       "  </tbody>\n",
       "</table>\n",
       "</div>"
      ],
      "text/plain": [
       "                                             content  lang\n",
       "0                                            content  type\n",
       "1  // Utility.cs\\n//\\n\\nusing System;\\nusing Syst...    cs\n",
       "2  \\n{$options.identity.sitename} - Your Accounts...   txt\n",
       "3  {\\n  \"name\": \"opulence/sessions\",\\n  \"descript...  json\n",
       "4  package io.mycat.backend.postgresql.packet;\\r\\...  java\n",
       "5  TAPi18n._afterUILanguageChange = function() {\\...    js\n",
       "6  filter:\\n    paths: [\"src/*\"]\\ntools:\\n    ext...   yml\n",
       "7  /**\\n * \\n */\\npackage org.openrtb.dsp.intf.mo...  java\n",
       "8  {% extends \"json/page.json\" %}\\n{% block title...  json\n",
       "9  <?php\\n\\nnamespace JMS\\SecurityExtraBundle\\Sec...   php"
      ]
     },
     "execution_count": 16,
     "metadata": {},
     "output_type": "execute_result"
    }
   ],
   "source": [
    "#https://www.kaggle.com/priteshshrivastava/sample-github-code\n",
    "data = pd.read_csv(\"sample_code.csv\", lineterminator='\\n',names=['content','lang'])\n",
    "data.head(10)"
   ]
  },
  {
   "cell_type": "markdown",
   "metadata": {},
   "source": [
    "### Filtrage des donnees"
   ]
  },
  {
   "cell_type": "code",
   "execution_count": 17,
   "metadata": {},
   "outputs": [
    {
     "name": "stdout",
     "output_type": "stream",
     "text": [
      "(681919, 2)\n",
      "(165309, 2)\n"
     ]
    }
   ],
   "source": [
    "\n",
    "#Reduire taille trop grande\n",
    "print(data.shape)\n",
    "len_cond = [True if 20<=len(s)<=10000 else False for s in data['content']]\n",
    "data = data[len_cond]\n",
    "\n",
    "# Filtrer\n",
    "lang = ['js', 'java', 'php', 'py', 'c', 'sh', 'cpp', 'swift']\n",
    "data = data[data['lang'].isin(lang)]\n",
    "\n",
    "data_trim= pd.DataFrame(data=data)\n",
    "\n",
    "'''\n",
    "for l in lang:\n",
    "    lang_trim = data[data['lang'] ==l].sample(50000,random_state = 100)\n",
    "    data_trim = data_trim.append(lang_trim)\n",
    "'''\n",
    "# Melanger\n",
    "print(data.shape)\n",
    "data_shuffle = data_trim.sample(frac=1)\n",
    "\n",
    "maxim = data_shuffle.shape[0]\n",
    "percent = 0.8\n",
    "part = int(maxim*percent)\n",
    "train = data_shuffle[0:part]\n",
    "valid = data_shuffle[part:maxim]"
   ]
  },
  {
   "cell_type": "code",
   "execution_count": 18,
   "metadata": {},
   "outputs": [
    {
     "name": "stdout",
     "output_type": "stream",
     "text": [
      "taille du training :  132247\n",
      "taille du validation :  33062\n",
      "\n",
      "Quantite de sample par langage :\n",
      "       content\n",
      "lang          \n",
      "swift     6273\n",
      "cpp       6573\n",
      "sh        7477\n",
      "c         9960\n",
      "py       19486\n",
      "php      27012\n",
      "java     39064\n",
      "js       49464\n",
      "\n",
      "Pourcentage de sample par langage :\n",
      "        content\n",
      "lang           \n",
      "swift  0.037947\n",
      "cpp    0.039762\n",
      "sh     0.045230\n",
      "c      0.060251\n",
      "py     0.117876\n",
      "php    0.163403\n",
      "java   0.236309\n",
      "js     0.299221\n"
     ]
    }
   ],
   "source": [
    "print(\"taille du training : \",train.shape[0])\n",
    "print(\"taille du validation : \",valid.shape[0])\n",
    "print()\n",
    "# Variete des donnees\n",
    "grouped = data_trim.groupby('lang').count().sort_values('content')\n",
    "print(\"Quantite de sample par langage :\")\n",
    "print(grouped)\n",
    "print()\n",
    "print(\"Pourcentage de sample par langage :\")\n",
    "print(grouped.div(data_trim.shape[0]))"
   ]
  },
  {
   "cell_type": "code",
   "execution_count": 19,
   "metadata": {},
   "outputs": [
    {
     "name": "stdout",
     "output_type": "stream",
     "text": [
      "['00', '000', '0000', '00000', '000000', '00000000', '000000000', '0000000000', '000000000000', '0000000000000000']\n",
      "sklearn\n",
      "[('the', 153020), ('public', 107081), ('import', 99770), ('this', 98011), ('return', 89708), ('license', 88600), ('function', 85206), ('class', 67975), ('var', 59150), ('if', 51890)]\n"
     ]
    }
   ],
   "source": [
    "#Donnes Vectorisees et Assignee suivant Frequences\n",
    "#On utilisera des pipeline par la suite\n",
    "\n",
    "count_vect = CountVectorizer()\n",
    "X_train_counts = count_vect.fit_transform(train[\"content\"])\n",
    "print(count_vect.get_feature_names()[0:10])#Affiches les premiers mots\n",
    "skline = count_vect.vocabulary_.get(u'sklearn')#Affiche indice de sklearn\n",
    "print(count_vect.get_feature_names()[skline])#affiche sklearn\n",
    "tf_transformer = TfidfTransformer(use_idf=False).fit(X_train_counts)\n",
    "X_train_tf = tf_transformer.transform(X_train_counts)\n",
    "\n",
    "#Mots les plus frequents\n",
    "\n",
    "sum_words = X_train_counts.sum(axis=0) \n",
    "words_freq = [(word, sum_words[0, idx]) for word, idx in count_vect.vocabulary_.items()]\n",
    "words_freq =sorted(words_freq, key = lambda x: x[1], reverse=True)\n",
    "print(words_freq[:10])\n"
   ]
  },
  {
   "cell_type": "markdown",
   "metadata": {},
   "source": [
    "# Training avec Modeles"
   ]
  },
  {
   "cell_type": "markdown",
   "metadata": {},
   "source": [
    "#### Comparaison modeles"
   ]
  },
  {
   "cell_type": "code",
   "execution_count": 20,
   "metadata": {},
   "outputs": [],
   "source": [
    "from sklearn.model_selection import train_test_split\n",
    "from sklearn.preprocessing import StandardScaler\n",
    "from sklearn.datasets import make_moons, make_circles, make_classification\n",
    "from sklearn.neural_network import MLPClassifier\n",
    "from sklearn.neighbors import KNeighborsClassifier\n",
    "from sklearn.svm import SVC\n",
    "from sklearn.gaussian_process import GaussianProcessClassifier\n",
    "from sklearn.gaussian_process.kernels import RBF\n",
    "from sklearn.tree import DecisionTreeClassifier\n",
    "from sklearn.ensemble import RandomForestClassifier, AdaBoostClassifier\n",
    "from sklearn.naive_bayes import GaussianNB\n",
    "from sklearn.discriminant_analysis import QuadraticDiscriminantAnalysis\n",
    "from sklearn.naive_bayes import MultinomialNB\n",
    "from sklearn.linear_model import SGDClassifier"
   ]
  },
  {
   "cell_type": "code",
   "execution_count": 22,
   "metadata": {},
   "outputs": [
    {
     "name": "stdout",
     "output_type": "stream",
     "text": [
      "Training ... ( 1 / 5 )\n",
      "Training ... ( 2 / 5 )\n",
      "Training ... ( 3 / 5 )\n"
     ]
    },
    {
     "name": "stderr",
     "output_type": "stream",
     "text": [
      "C:\\Users\\kilca\\anaconda3\\lib\\site-packages\\sklearn\\svm\\_base.py:255: ConvergenceWarning: Solver terminated early (max_iter=8).  Consider pre-processing your data with StandardScaler or MinMaxScaler.\n",
      "  warnings.warn('Solver terminated early (max_iter=%i).'\n"
     ]
    },
    {
     "name": "stdout",
     "output_type": "stream",
     "text": [
      "Training ... ( 4 / 5 )\n",
      "duration :  189.96925330162048\n"
     ]
    },
    {
     "data": {
      "text/html": [
       "<div>\n",
       "<style scoped>\n",
       "    .dataframe tbody tr th:only-of-type {\n",
       "        vertical-align: middle;\n",
       "    }\n",
       "\n",
       "    .dataframe tbody tr th {\n",
       "        vertical-align: top;\n",
       "    }\n",
       "\n",
       "    .dataframe thead th {\n",
       "        text-align: right;\n",
       "    }\n",
       "</style>\n",
       "<table border=\"1\" class=\"dataframe\">\n",
       "  <thead>\n",
       "    <tr style=\"text-align: right;\">\n",
       "      <th></th>\n",
       "      <th>SGD Classif</th>\n",
       "      <th>MultinomialNBRBF SVM</th>\n",
       "      <th>Decision Tree</th>\n",
       "      <th>Random Forest</th>\n",
       "    </tr>\n",
       "  </thead>\n",
       "  <tbody>\n",
       "    <tr>\n",
       "      <th>0</th>\n",
       "      <td>0.930161</td>\n",
       "      <td>0.876587</td>\n",
       "      <td>0.062088</td>\n",
       "      <td>0.676537</td>\n",
       "    </tr>\n",
       "    <tr>\n",
       "      <th>1</th>\n",
       "      <td>0.935636</td>\n",
       "      <td>0.851007</td>\n",
       "      <td>0.060250</td>\n",
       "      <td>0.681901</td>\n",
       "    </tr>\n",
       "  </tbody>\n",
       "</table>\n",
       "</div>"
      ],
      "text/plain": [
       "   SGD Classif  MultinomialNBRBF SVM  Decision Tree  Random Forest\n",
       "0     0.930161              0.876587       0.062088       0.676537\n",
       "1     0.935636              0.851007       0.060250       0.681901"
      ]
     },
     "metadata": {},
     "output_type": "display_data"
    }
   ],
   "source": [
    "#[!] Attention ce script prend BEAUCOUP de temps\n",
    "#Lance un warning mais pas important\n",
    "import time\n",
    "\n",
    "\n",
    "names = [\n",
    "        \"SGD Classif\",\n",
    "        \"MultiBayes\"\n",
    "        \"AdaBoost\",\n",
    "        \"RBF SVM\",\n",
    "         \"Decision Tree\",\n",
    "        \"Random Forest\"\n",
    "]\n",
    "\n",
    "classifiers = [\n",
    "    SGDClassifier(loss='hinge', penalty='l2',\n",
    "                      alpha=1e-3, random_state=42,\n",
    "                      max_iter=5, tol=None),#good\n",
    "    MultinomialNB(),#good\n",
    "    AdaBoostClassifier(n_estimators=5),# ok\n",
    "    SVC(gamma=2, C=1, max_iter=8),#ok tres long\n",
    "    DecisionTreeClassifier(max_depth=3),#ok\n",
    "    RandomForestClassifier(max_depth=3, n_estimators=10, max_features=1)#ok\n",
    "    \n",
    "]\n",
    "\n",
    "trainScore = []\n",
    "validScore = []\n",
    "i =1\n",
    "\n",
    "t0 = time.time()\n",
    "for name, clff in zip(names, classifiers):\n",
    "    print(\"Training ... (\",i,\"/\",len(classifiers),\")\")\n",
    "    clf = Pipeline([\n",
    "    ('vect', CountVectorizer()),\n",
    "    ('tfidf', TfidfTransformer()),\n",
    "    ('clf', clff),\n",
    "    ])\n",
    "    clf.fit(train[\"content\"],train[\"lang\"])\n",
    "    score = clf.score(train[\"content\"], train[\"lang\"])\n",
    "    trainScore.append(clf.score(train[\"content\"],train[\"lang\"]))\n",
    "    validScore.append(clf.score(valid[\"content\"],valid[\"lang\"]))\n",
    "    i = i+1\n",
    "\n",
    "\n",
    "t1 = time.time()\n",
    "total = t1-t0\n",
    "print(\"duration : \",total)\n",
    "data= [trainScore, validScore]\n",
    "ptable = pd.DataFrame(data, columns=names)\n",
    "display(ptable)"
   ]
  },
  {
   "cell_type": "code",
   "execution_count": 42,
   "metadata": {},
   "outputs": [
    {
     "name": "stdout",
     "output_type": "stream",
     "text": [
      "4\n"
     ]
    },
    {
     "data": {
      "text/html": [
       "<div>\n",
       "<style scoped>\n",
       "    .dataframe tbody tr th:only-of-type {\n",
       "        vertical-align: middle;\n",
       "    }\n",
       "\n",
       "    .dataframe tbody tr th {\n",
       "        vertical-align: top;\n",
       "    }\n",
       "\n",
       "    .dataframe thead th {\n",
       "        text-align: right;\n",
       "    }\n",
       "</style>\n",
       "<table border=\"1\" class=\"dataframe\">\n",
       "  <thead>\n",
       "    <tr style=\"text-align: right;\">\n",
       "      <th></th>\n",
       "      <th>SGD Classif</th>\n",
       "      <th>MultinomialNBRBF SVM</th>\n",
       "      <th>Decision Tree</th>\n",
       "      <th>Random Forest</th>\n",
       "    </tr>\n",
       "  </thead>\n",
       "  <tbody>\n",
       "    <tr>\n",
       "      <th>0</th>\n",
       "      <td>0.930161</td>\n",
       "      <td>0.876587</td>\n",
       "      <td>0.062088</td>\n",
       "      <td>0.676537</td>\n",
       "    </tr>\n",
       "    <tr>\n",
       "      <th>1</th>\n",
       "      <td>0.935636</td>\n",
       "      <td>0.851007</td>\n",
       "      <td>0.060250</td>\n",
       "      <td>0.681901</td>\n",
       "    </tr>\n",
       "  </tbody>\n",
       "</table>\n",
       "</div>"
      ],
      "text/plain": [
       "   SGD Classif  MultinomialNBRBF SVM  Decision Tree  Random Forest\n",
       "0     0.930161              0.876587       0.062088       0.676537\n",
       "1     0.935636              0.851007       0.060250       0.681901"
      ]
     },
     "metadata": {},
     "output_type": "display_data"
    }
   ],
   "source": [
    "pd.set_option('display.expand_frame_repr', False)\n",
    "data= [trainScore, validScore]\n",
    "print(len(validScore))\n",
    "ptable = pd.DataFrame(data, columns=names)\n",
    "display(ptable)"
   ]
  },
  {
   "cell_type": "markdown",
   "metadata": {},
   "source": [
    "Nous voyons donc que les modeles SGD et MultiNB sont les meilleurs, nous choisirons donc de prendre le modele SGD puisqu'il offre une large quantité d'hyperparametre et un tres bon score."
   ]
  },
  {
   "cell_type": "markdown",
   "metadata": {},
   "source": [
    "# Recherche hyperparametre sur SGD Classifier :"
   ]
  },
  {
   "cell_type": "markdown",
   "metadata": {},
   "source": [
    "#### Nos Recherches ([!] Prend beaucoup de temps)"
   ]
  },
  {
   "cell_type": "code",
   "execution_count": 23,
   "metadata": {},
   "outputs": [
    {
     "name": "stdout",
     "output_type": "stream",
     "text": [
      "score des tests :\n",
      "[0.9843627124795838, 0.971266106103684, 0.9356360776722521, 0.884913193394229, 0.4438932913919303, 0.441201379226907, 0.44029399310386547]\n"
     ]
    },
    {
     "data": {
      "text/plain": [
       "<matplotlib.legend.Legend at 0x235dcb8cfd0>"
      ]
     },
     "execution_count": 23,
     "metadata": {},
     "output_type": "execute_result"
    },
    {
     "data": {
      "image/png": "[encoded data removed]",
      "text/plain": [
       "<Figure size 432x432 with 1 Axes>"
      ]
     },
     "metadata": {
      "needs_background": "light"
     },
     "output_type": "display_data"
    }
   ],
   "source": [
    "#PS : use_idf ou non change pas bcp\n",
    "#Changement d'alpha\n",
    "\n",
    "alpha_range = [0.00001,0.0001,0.001,0.01,0.1,1.0,2.0]\n",
    "\n",
    "trainList = []\n",
    "testList = []\n",
    "\n",
    "for A in alpha_range:\n",
    "    clf = Pipeline([\n",
    "        ('vect', CountVectorizer()),\n",
    "        ('tfidf', TfidfTransformer()),\n",
    "        ('clf', SGDClassifier(loss='hinge', penalty='l2',\n",
    "                        random_state=42,alpha=A,\n",
    "                          max_iter=5, tol=None)),\n",
    "    ])\n",
    "\n",
    "    clf = clf.fit(train[\"content\"],train[\"lang\"])\n",
    "    trainList.append(clf.score(train[\"content\"],train[\"lang\"]))\n",
    "    testList.append(clf.score(valid[\"content\"],valid[\"lang\"]))\n",
    "\n",
    "print(\"score des tests :\")\n",
    "print(testList)\n",
    "\n",
    "fig, ax = plt.subplots(1, 1, figsize=(6, 6))\n",
    "plt.xlim(0,2)\n",
    "ax.set_ylim([0,1])\n",
    "plt.xticks(range(0,3))\n",
    "ax.set_title('train and test variation from alpha');\n",
    "plt.xlabel('alpha')\n",
    "plt.ylabel('score') \n",
    "ax.plot(alpha_range,testList, label=\"test score\")\n",
    "ax.plot(alpha_range,trainList, label=\"train score\")\n",
    "ax.legend()"
   ]
  },
  {
   "cell_type": "code",
   "execution_count": 37,
   "metadata": {},
   "outputs": [
    {
     "name": "stdout",
     "output_type": "stream",
     "text": [
      "Training Score (0) et Valid Score (1) suivant les types de loss_range\n"
     ]
    },
    {
     "data": {
      "text/html": [
       "<div>\n",
       "<style scoped>\n",
       "    .dataframe tbody tr th:only-of-type {\n",
       "        vertical-align: middle;\n",
       "    }\n",
       "\n",
       "    .dataframe tbody tr th {\n",
       "        vertical-align: top;\n",
       "    }\n",
       "\n",
       "    .dataframe thead th {\n",
       "        text-align: right;\n",
       "    }\n",
       "</style>\n",
       "<table border=\"1\" class=\"dataframe\">\n",
       "  <thead>\n",
       "    <tr style=\"text-align: right;\">\n",
       "      <th></th>\n",
       "      <th>hinge</th>\n",
       "      <th>log</th>\n",
       "      <th>modified_huber</th>\n",
       "      <th>squared_hinge</th>\n",
       "      <th>perceptron</th>\n",
       "    </tr>\n",
       "  </thead>\n",
       "  <tbody>\n",
       "    <tr>\n",
       "      <th>0</th>\n",
       "      <td>0.974056</td>\n",
       "      <td>0.931499</td>\n",
       "      <td>0.985429</td>\n",
       "      <td>0.884232</td>\n",
       "      <td>0.999191</td>\n",
       "    </tr>\n",
       "    <tr>\n",
       "      <th>1</th>\n",
       "      <td>0.971266</td>\n",
       "      <td>0.940022</td>\n",
       "      <td>0.978586</td>\n",
       "      <td>0.910199</td>\n",
       "      <td>0.981187</td>\n",
       "    </tr>\n",
       "  </tbody>\n",
       "</table>\n",
       "</div>"
      ],
      "text/plain": [
       "      hinge       log  modified_huber  squared_hinge  perceptron\n",
       "0  0.974056  0.931499        0.985429       0.884232    0.999191\n",
       "1  0.971266  0.940022        0.978586       0.910199    0.981187"
      ]
     },
     "metadata": {},
     "output_type": "display_data"
    }
   ],
   "source": [
    "#Loss\n",
    "loss_range = ['hinge','log','modified_huber','squared_hinge','perceptron']\n",
    "\n",
    "\n",
    "trainList = []\n",
    "testList = []\n",
    "\n",
    "for L in loss_range:\n",
    "    clf = Pipeline([\n",
    "        ('vect', CountVectorizer()),\n",
    "        ('tfidf', TfidfTransformer()),\n",
    "        ('clf', SGDClassifier(loss=L, penalty='l2',\n",
    "                        random_state=42,\n",
    "                          max_iter=5,tol=None)),\n",
    "    ])\n",
    "\n",
    "    clf = clf.fit(train[\"content\"],train[\"lang\"])\n",
    "    trainList.append(clf.score(train[\"content\"],train[\"lang\"]))\n",
    "    testList.append(clf.score(valid[\"content\"],valid[\"lang\"]))\n",
    "\n",
    "ptable = pd.DataFrame([trainList,testList], columns=loss_range)\n",
    "print(\"Training Score (0) et Valid Score (1) suivant les types de loss_range\")\n",
    "display(ptable)"
   ]
  },
  {
   "cell_type": "code",
   "execution_count": 43,
   "metadata": {},
   "outputs": [
    {
     "name": "stdout",
     "output_type": "stream",
     "text": [
      "Training Score (0) et Valid Score (1) suivant les types de penalty_range\n"
     ]
    },
    {
     "data": {
      "text/html": [
       "<div>\n",
       "<style scoped>\n",
       "    .dataframe tbody tr th:only-of-type {\n",
       "        vertical-align: middle;\n",
       "    }\n",
       "\n",
       "    .dataframe tbody tr th {\n",
       "        vertical-align: top;\n",
       "    }\n",
       "\n",
       "    .dataframe thead th {\n",
       "        text-align: right;\n",
       "    }\n",
       "</style>\n",
       "<table border=\"1\" class=\"dataframe\">\n",
       "  <thead>\n",
       "    <tr style=\"text-align: right;\">\n",
       "      <th></th>\n",
       "      <th>l2</th>\n",
       "      <th>l1</th>\n",
       "      <th>elasticnet</th>\n",
       "    </tr>\n",
       "  </thead>\n",
       "  <tbody>\n",
       "    <tr>\n",
       "      <th>0</th>\n",
       "      <td>0.974056</td>\n",
       "      <td>0.957277</td>\n",
       "      <td>0.964264</td>\n",
       "    </tr>\n",
       "    <tr>\n",
       "      <th>1</th>\n",
       "      <td>0.971266</td>\n",
       "      <td>0.958956</td>\n",
       "      <td>0.966185</td>\n",
       "    </tr>\n",
       "  </tbody>\n",
       "</table>\n",
       "</div>"
      ],
      "text/plain": [
       "         l2        l1  elasticnet\n",
       "0  0.974056  0.957277    0.964264\n",
       "1  0.971266  0.958956    0.966185"
      ]
     },
     "metadata": {},
     "output_type": "display_data"
    }
   ],
   "source": [
    "#Penalty\n",
    "\n",
    "penalty_range = ['l2','l1','elasticnet']\n",
    "\n",
    "trainList = []\n",
    "testList = []\n",
    "\n",
    "for P in penalty_range:\n",
    "    clf = Pipeline([\n",
    "        ('vect', CountVectorizer()),\n",
    "        ('tfidf', TfidfTransformer()),\n",
    "        ('clf', SGDClassifier(loss='hinge', penalty=P,\n",
    "                        random_state=42,\n",
    "                          max_iter=5,tol=None)),\n",
    "    ])\n",
    "\n",
    "    clf = clf.fit(train[\"content\"],train[\"lang\"])\n",
    "    trainList.append(clf.score(train[\"content\"],train[\"lang\"]))\n",
    "    testList.append(clf.score(valid[\"content\"],valid[\"lang\"]))\n",
    "    \n",
    "ptable = pd.DataFrame([trainList,testList], columns=penalty_range)\n",
    "print(\"Training Score (0) et Valid Score (1) suivant les types de penalty_range\")\n",
    "display(ptable)\n"
   ]
  },
  {
   "cell_type": "markdown",
   "metadata": {},
   "source": [
    "#### Recherche avec GridSearchCV"
   ]
  },
  {
   "cell_type": "code",
   "execution_count": 45,
   "metadata": {},
   "outputs": [],
   "source": [
    "from sklearn.model_selection import GridSearchCV"
   ]
  },
  {
   "cell_type": "code",
   "execution_count": 48,
   "metadata": {},
   "outputs": [
    {
     "data": {
      "text/plain": [
       "['mean_fit_time',\n",
       " 'mean_score_time',\n",
       " 'mean_test_score',\n",
       " 'param_alpha',\n",
       " 'param_loss',\n",
       " 'param_max_iter',\n",
       " 'param_penalty',\n",
       " 'param_random_state',\n",
       " 'param_tol',\n",
       " 'params',\n",
       " 'rank_test_score',\n",
       " 'split0_test_score',\n",
       " 'split1_test_score',\n",
       " 'split2_test_score',\n",
       " 'split3_test_score',\n",
       " 'split4_test_score',\n",
       " 'std_fit_time',\n",
       " 'std_score_time',\n",
       " 'std_test_score']"
      ]
     },
     "execution_count": 48,
     "metadata": {},
     "output_type": "execute_result"
    }
   ],
   "source": [
    "classifier = SGDClassifier()\n",
    "\n",
    "param = {'loss' : ['hinge','modified_huber','perceptron'], \n",
    "         'penalty' : ['l2'], \n",
    "         'random_state' : [42], \n",
    "         'max_iter' : [5],\n",
    "         'tol' : [None], \n",
    "         'alpha' : [0.00001,0.0001]}\n",
    "gscv = GridSearchCV(classifier, param)\n",
    "\n",
    "clf = Pipeline([\n",
    "    ('vect', CountVectorizer()),\n",
    "    ('tfidf', TfidfTransformer()),#use_idf=True est mieu (et change peu)\n",
    "    ('clf', gscv),\n",
    "])\n",
    "clf = clf.fit(train[\"content\"], train[\"lang\"])\n",
    "sorted(gscv.cv_results_.keys())"
   ]
  },
  {
   "cell_type": "code",
   "execution_count": 49,
   "metadata": {},
   "outputs": [
    {
     "name": "stdout",
     "output_type": "stream",
     "text": [
      "Best parameters set found on development set:\n",
      "{'alpha': 1e-05, 'loss': 'modified_huber', 'max_iter': 5, 'penalty': 'l2', 'random_state': 42, 'tol': None}\n",
      "\n",
      "\n",
      "Grid scores on development set:\n"
     ]
    },
    {
     "data": {
      "text/html": [
       "<div>\n",
       "<style scoped>\n",
       "    .dataframe tbody tr th:only-of-type {\n",
       "        vertical-align: middle;\n",
       "    }\n",
       "\n",
       "    .dataframe tbody tr th {\n",
       "        vertical-align: top;\n",
       "    }\n",
       "\n",
       "    .dataframe thead th {\n",
       "        text-align: right;\n",
       "    }\n",
       "</style>\n",
       "<table border=\"1\" class=\"dataframe\">\n",
       "  <thead>\n",
       "    <tr style=\"text-align: right;\">\n",
       "      <th></th>\n",
       "      <th>alpha</th>\n",
       "      <th>loss</th>\n",
       "      <th>score</th>\n",
       "    </tr>\n",
       "  </thead>\n",
       "  <tbody>\n",
       "    <tr>\n",
       "      <th>0</th>\n",
       "      <td>0.00001</td>\n",
       "      <td>hinge</td>\n",
       "      <td>0.980756</td>\n",
       "    </tr>\n",
       "    <tr>\n",
       "      <th>1</th>\n",
       "      <td>0.00001</td>\n",
       "      <td>modified_huber</td>\n",
       "      <td>0.981754</td>\n",
       "    </tr>\n",
       "    <tr>\n",
       "      <th>2</th>\n",
       "      <td>0.00001</td>\n",
       "      <td>perceptron</td>\n",
       "      <td>0.977973</td>\n",
       "    </tr>\n",
       "    <tr>\n",
       "      <th>3</th>\n",
       "      <td>0.00010</td>\n",
       "      <td>hinge</td>\n",
       "      <td>0.967810</td>\n",
       "    </tr>\n",
       "    <tr>\n",
       "      <th>4</th>\n",
       "      <td>0.00010</td>\n",
       "      <td>modified_huber</td>\n",
       "      <td>0.974895</td>\n",
       "    </tr>\n",
       "    <tr>\n",
       "      <th>5</th>\n",
       "      <td>0.00010</td>\n",
       "      <td>perceptron</td>\n",
       "      <td>0.977262</td>\n",
       "    </tr>\n",
       "  </tbody>\n",
       "</table>\n",
       "</div>"
      ],
      "text/plain": [
       "     alpha            loss     score\n",
       "0  0.00001           hinge  0.980756\n",
       "1  0.00001  modified_huber  0.981754\n",
       "2  0.00001      perceptron  0.977973\n",
       "3  0.00010           hinge  0.967810\n",
       "4  0.00010  modified_huber  0.974895\n",
       "5  0.00010      perceptron  0.977262"
      ]
     },
     "metadata": {},
     "output_type": "display_data"
    }
   ],
   "source": [
    "print(\"Best parameters set found on development set:\")\n",
    "print(gscv.best_params_)\n",
    "print()\n",
    "print()\n",
    "print(\"Grid scores on development set:\")\n",
    "means = gscv.cv_results_['mean_test_score']\n",
    "stds = gscv.cv_results_['std_test_score']\n",
    "columns = [\"alpha\",\"loss\",\"score\"]\n",
    "values = []\n",
    "for mean, std, params in zip(means, stds, gscv.cv_results_['params']):\n",
    "    values.append([params[\"alpha\"],params[\"loss\"],mean])\n",
    "    \n",
    "ptable = pd.DataFrame(values, columns=columns)\n",
    "display(ptable)"
   ]
  },
  {
   "cell_type": "markdown",
   "metadata": {},
   "source": [
    "Nous choisirons donc\n",
    "- un alpha de 0.00001 afin de s'assurer d'un bon score sans trop diminuer pour eviter l'overfit\n",
    "- un loss function de type : 'modified huber'\n",
    "- une penalty de type : 'l2'"
   ]
  },
  {
   "cell_type": "code",
   "execution_count": 52,
   "metadata": {},
   "outputs": [
    {
     "name": "stdout",
     "output_type": "stream",
     "text": [
      "train score : 0.9983137613707683\n",
      "test score : 0.9855120682354365\n"
     ]
    }
   ],
   "source": [
    "#Choisi :\n",
    "clf = Pipeline([\n",
    "    ('vect', CountVectorizer()),\n",
    "    ('tfidf', TfidfTransformer()),#use_idf=True est mieu (et change peu)\n",
    "    ('clf', SGDClassifier(alpha=0.00001,loss='modified_huber', penalty='l2',\n",
    "                        random_state=42,\n",
    "                          max_iter=5,tol=None)),\n",
    "])\n",
    "clf = clf.fit(train[\"content\"], train[\"lang\"])\n",
    "\n",
    "print(\"train score :\",clf.score(train[\"content\"],train[\"lang\"]))\n",
    "print(\"test score :\",clf.score(valid[\"content\"],valid[\"lang\"]))"
   ]
  },
  {
   "cell_type": "markdown",
   "metadata": {},
   "source": [
    "# Analyse des resultat et des metriques"
   ]
  },
  {
   "cell_type": "code",
   "execution_count": 53,
   "metadata": {},
   "outputs": [
    {
     "name": "stdout",
     "output_type": "stream",
     "text": [
      "differents scores cross_validate : \n",
      "[0.98181474 0.98268431 0.98136035 0.98215433 0.98207872]\n",
      "moyenne des scores : 0.9820184921996686\n",
      "train score : 0.9983137613707683\n",
      "test score :  0.9855120682354365\n"
     ]
    }
   ],
   "source": [
    "#Prend pas mal de temps\n",
    "\n",
    "from sklearn import datasets, linear_model\n",
    "from sklearn.model_selection import cross_validate\n",
    "from sklearn.metrics import make_scorer\n",
    "from sklearn.metrics import confusion_matrix\n",
    "\n",
    "import numpy as np\n",
    "\n",
    "from sklearn.model_selection import KFold, cross_val_score\n",
    "\n",
    "scores = cross_val_score(\n",
    "    clf, train[\"content\"], train[\"lang\"], cv=5)\n",
    "\n",
    "print(\"differents scores cross_validate : \")\n",
    "print(scores)\n",
    "print(\"moyenne des scores :\",np.mean(scores))\n",
    "\n",
    "print(\"train score :\",clf.score(train[\"content\"],train[\"lang\"]))\n",
    "print(\"test score : \",clf.score(valid[\"content\"],valid[\"lang\"]))"
   ]
  },
  {
   "cell_type": "code",
   "execution_count": null,
   "metadata": {},
   "outputs": [],
   "source": [
    "#Attention prend beaucoup de temps\n",
    "\n",
    "cross_v = cross_validate(clf, train[\"content\"], train[\"lang\"], cv=5, return_train_score=True)\n",
    "print(cross_v)"
   ]
  },
  {
   "cell_type": "code",
   "execution_count": 97,
   "metadata": {},
   "outputs": [
    {
     "data": {
      "text/plain": [
       "<matplotlib.legend.Legend at 0x2159dff6700>"
      ]
     },
     "execution_count": 97,
     "metadata": {},
     "output_type": "execute_result"
    },
    {
     "data": {
      "image/png": "[encoded data removed]",
      "text/plain": [
       "<Figure size 432x432 with 1 Axes>"
      ]
     },
     "metadata": {
      "needs_background": "light"
     },
     "output_type": "display_data"
    }
   ],
   "source": [
    "fig, ax = plt.subplots(1, 1, figsize=(6, 6))\n",
    "ax.set_ylim([0,1])\n",
    "plt.xticks(range(0,4))\n",
    "ax.plot(cross_v['test_score'],label = \"test_score\")\n",
    "ax.set_title('test_score and train_score validation croisee');\n",
    "ax.plot(cross_v['train_score'], label=\"train score\")\n",
    "ax.legend()"
   ]
  },
  {
   "cell_type": "code",
   "execution_count": 98,
   "metadata": {},
   "outputs": [],
   "source": [
    "y_true = valid[\"lang\"]\n",
    "y_pred = clf.predict(valid[\"content\"])"
   ]
  },
  {
   "cell_type": "code",
   "execution_count": 139,
   "metadata": {},
   "outputs": [
    {
     "name": "stdout",
     "output_type": "stream",
     "text": [
      "[[  68  171    8    2    2    0    1   43    2]\n",
      " [   1 4694   94   11   30   14    7  255   55]\n",
      " [   0   16 7771    4    1    1    3   10    5]\n",
      " [   0   13   37 4516    0    1    2    7    0]\n",
      " [   0  117   66    4 3657    2    3   80    5]\n",
      " [   0   43   36   50    5  875  206   58    2]\n",
      " [   0   39    8    0    4   27 1874   33    1]\n",
      " [   0   83   35    7   40    3    1 9729   23]\n",
      " [   0   39   24    3    5    1    1   94 5267]]\n"
     ]
    },
    {
     "data": {
      "image/png": "[encoded data removed]",
      "text/plain": [
       "<Figure size 432x288 with 2 Axes>"
      ]
     },
     "metadata": {
      "needs_background": "light"
     },
     "output_type": "display_data"
    }
   ],
   "source": [
    "\n",
    "# Matrice de confusion\n",
    "print(confusion_matrix(y_true, y_pred, labels=lang))\n",
    "plot_confusion_matrix(clf, train[\"content\"], train[\"lang\"])\n",
    "plt.show()"
   ]
  },
  {
   "cell_type": "code",
   "execution_count": 100,
   "metadata": {},
   "outputs": [
    {
     "name": "stdout",
     "output_type": "stream",
     "text": [
      "0.9428102891306134\n"
     ]
    }
   ],
   "source": [
    "#MCC\n",
    "from sklearn.metrics import matthews_corrcoef\n",
    "mcc = matthews_corrcoef(y_true,y_pred)\n",
    "print(mcc)"
   ]
  },
  {
   "cell_type": "code",
   "execution_count": 76,
   "metadata": {},
   "outputs": [],
   "source": [
    "#Todo ROC + AUC si possible"
   ]
  },
  {
   "cell_type": "code",
   "execution_count": 101,
   "metadata": {},
   "outputs": [
    {
     "name": "stdout",
     "output_type": "stream",
     "text": [
      "              precision    recall  f1-score   support\n",
      "\n",
      "         csv       0.89      0.94      0.92      1986\n",
      "         txt       0.95      0.69      0.80      1275\n",
      "        java       0.98      0.99      0.98      4576\n",
      "          cs       0.99      0.23      0.37       297\n",
      "          py       0.96      0.99      0.98      7811\n",
      "         cpp       0.94      0.98      0.96      9921\n",
      "           c       0.98      0.97      0.98      5434\n",
      "          js       0.98      0.93      0.95      3934\n",
      "         php       0.90      0.91      0.90      5161\n",
      "\n",
      "    accuracy                           0.95     40395\n",
      "   macro avg       0.95      0.85      0.87     40395\n",
      "weighted avg       0.95      0.95      0.95     40395\n",
      "\n"
     ]
    }
   ],
   "source": [
    "y_true =  valid[\"lang\"]\n",
    "y_pred = clf.predict(valid[\"content\"])\n",
    "target_names = lang\n",
    "print(classification_report(y_true, y_pred, target_names=target_names))"
   ]
  },
  {
   "cell_type": "markdown",
   "metadata": {},
   "source": [
    "## Tests persos"
   ]
  },
  {
   "cell_type": "code",
   "execution_count": 142,
   "metadata": {},
   "outputs": [
    {
     "data": {
      "text/plain": [
       "'java'"
      ]
     },
     "execution_count": 142,
     "metadata": {},
     "output_type": "execute_result"
    }
   ],
   "source": [
    "clf.predict([\n",
    "\"public class Main{ \\\n",
    "    public static void main(String[] args) {\\\n",
    "    System.out.println(\\\"blabla\\\");\\\n",
    "    }\"\n",
    "    ])[0]"
   ]
  },
  {
   "cell_type": "code",
   "execution_count": 144,
   "metadata": {},
   "outputs": [
    {
     "data": {
      "text/plain": [
       "'cpp'"
      ]
     },
     "execution_count": 144,
     "metadata": {},
     "output_type": "execute_result"
    }
   ],
   "source": [
    "clf.predict([\n",
    "\"\\\n",
    "#include <iostream>\\\n",
    "#define e using\\\n",
    "#define ee namespace\\\n",
    "#define eee std\\\n",
    "#define eeee ;\\\n",
    "#define eeeee int\\\n",
    "#define eeeeee main\\\n",
    "#define eeeeeee (\\\n",
    "#define eeeeeeee )\\\n",
    "#define eeeeeeeee while\\\n",
    "#define eeeeeeeeee true\\\n",
    "#define eeeeeeeeeee {\\\n",
    "#define eeeeeeeeeeee }\\\n",
    "#define eeeeeeeeeeeee cout\\\n",
    "#define eeeeeeeeeeeeee cerr\\\n",
    "#define eeeeeeeeeeeeeee <<\\\n",
    "#define eeeeeeeeeeeeeeee 'e'\\\n",
    "#define eeeeeeeeeeeeeeeee return\\\n",
    "\\\n",
    "e ee eee eeee\\\n",
    "eeeee eeeeee eeeeeee eeeeeeee\\\n",
    "eeeeeeeeeee\\\n",
    "eeeeeeeee eeeeeee eeeeeeeeee eeeeeeee\\\n",
    "eeeeeeeeeee\\\n",
    "eeeeeeeeeeeee eeeeeeeeeeeeeee eeeeeeeeeeeeeeee eeee\\\n",
    "eeeeeeeeeeeeee eeeeeeeeeeeeeee eeeeeeeeeeeeeeee eeee\\\n",
    "eeeeeeeeeeee\\\n",
    "eeeeeeeeeeeeeeeee eeeeeeeeeeeeeeee eeee\\\n",
    "eeeeeeeeeeee\"\n",
    "    ])[0]"
   ]
  },
  {
   "cell_type": "code",
   "execution_count": null,
   "metadata": {},
   "outputs": [],
   "source": []
  }
 ],
 "metadata": {
  "kernelspec": {
   "display_name": "Python 3",
   "language": "python",
   "name": "python3"
  },
  "language_info": {
   "codemirror_mode": {
    "name": "ipython",
    "version": 3
   },
   "file_extension": ".py",
   "mimetype": "text/x-python",
   "name": "python",
   "nbconvert_exporter": "python",
   "pygments_lexer": "ipython3",
   "version": "3.8.3"
  }
 },
 "nbformat": 4,
 "nbformat_minor": 4
}
