{
 "cells": [
  {
   "cell_type": "markdown",
   "metadata": {},
   "source": [
    "Kilian Cannet - Noe Boonstra"
   ]
  },
  {
   "cell_type": "markdown",
   "metadata": {},
   "source": [
    "# Importation"
   ]
  },
  {
   "cell_type": "code",
   "execution_count": 25,
   "metadata": {},
   "outputs": [
    {
     "name": "stdout",
     "output_type": "stream",
     "text": [
      "Done\n"
     ]
    }
   ],
   "source": [
    "import pandas as pd\n",
    "from sklearn.feature_extraction.text import CountVectorizer\n",
    "from sklearn.pipeline import Pipeline\n",
    "from sklearn.feature_extraction.text import TfidfTransformer\n",
    "from sklearn.metrics import classification_report, confusion_matrix, plot_confusion_matrix\n",
    "from sklearn.model_selection import GridSearchCV\n",
    "\n",
    "from sklearn.naive_bayes import MultinomialNB\n",
    "from sklearn.linear_model import SGDClassifier\n",
    "print(\"Done\")"
   ]
  },
  {
   "cell_type": "markdown",
   "metadata": {},
   "source": [
    "# Chargement données"
   ]
  },
  {
   "cell_type": "code",
   "execution_count": 3,
   "metadata": {},
   "outputs": [
    {
     "data": {
      "text/html": [
       "<div>\n",
       "<style scoped>\n",
       "    .dataframe tbody tr th:only-of-type {\n",
       "        vertical-align: middle;\n",
       "    }\n",
       "\n",
       "    .dataframe tbody tr th {\n",
       "        vertical-align: top;\n",
       "    }\n",
       "\n",
       "    .dataframe thead th {\n",
       "        text-align: right;\n",
       "    }\n",
       "</style>\n",
       "<table border=\"1\" class=\"dataframe\">\n",
       "  <thead>\n",
       "    <tr style=\"text-align: right;\">\n",
       "      <th></th>\n",
       "      <th>content</th>\n",
       "      <th>lang</th>\n",
       "    </tr>\n",
       "  </thead>\n",
       "  <tbody>\n",
       "    <tr>\n",
       "      <th>0</th>\n",
       "      <td>content</td>\n",
       "      <td>type</td>\n",
       "    </tr>\n",
       "    <tr>\n",
       "      <th>1</th>\n",
       "      <td>// Utility.cs\\n//\\n\\nusing System;\\nusing Syst...</td>\n",
       "      <td>cs</td>\n",
       "    </tr>\n",
       "    <tr>\n",
       "      <th>2</th>\n",
       "      <td>\\n{$options.identity.sitename} - Your Accounts...</td>\n",
       "      <td>txt</td>\n",
       "    </tr>\n",
       "    <tr>\n",
       "      <th>3</th>\n",
       "      <td>{\\n  \"name\": \"opulence/sessions\",\\n  \"descript...</td>\n",
       "      <td>json</td>\n",
       "    </tr>\n",
       "    <tr>\n",
       "      <th>4</th>\n",
       "      <td>package io.mycat.backend.postgresql.packet;\\r\\...</td>\n",
       "      <td>java</td>\n",
       "    </tr>\n",
       "    <tr>\n",
       "      <th>5</th>\n",
       "      <td>TAPi18n._afterUILanguageChange = function() {\\...</td>\n",
       "      <td>js</td>\n",
       "    </tr>\n",
       "    <tr>\n",
       "      <th>6</th>\n",
       "      <td>filter:\\n    paths: [\"src/*\"]\\ntools:\\n    ext...</td>\n",
       "      <td>yml</td>\n",
       "    </tr>\n",
       "    <tr>\n",
       "      <th>7</th>\n",
       "      <td>/**\\n * \\n */\\npackage org.openrtb.dsp.intf.mo...</td>\n",
       "      <td>java</td>\n",
       "    </tr>\n",
       "    <tr>\n",
       "      <th>8</th>\n",
       "      <td>{% extends \"json/page.json\" %}\\n{% block title...</td>\n",
       "      <td>json</td>\n",
       "    </tr>\n",
       "    <tr>\n",
       "      <th>9</th>\n",
       "      <td>&lt;?php\\n\\nnamespace JMS\\SecurityExtraBundle\\Sec...</td>\n",
       "      <td>php</td>\n",
       "    </tr>\n",
       "  </tbody>\n",
       "</table>\n",
       "</div>"
      ],
      "text/plain": [
       "                                             content  lang\n",
       "0                                            content  type\n",
       "1  // Utility.cs\\n//\\n\\nusing System;\\nusing Syst...    cs\n",
       "2  \\n{$options.identity.sitename} - Your Accounts...   txt\n",
       "3  {\\n  \"name\": \"opulence/sessions\",\\n  \"descript...  json\n",
       "4  package io.mycat.backend.postgresql.packet;\\r\\...  java\n",
       "5  TAPi18n._afterUILanguageChange = function() {\\...    js\n",
       "6  filter:\\n    paths: [\"src/*\"]\\ntools:\\n    ext...   yml\n",
       "7  /**\\n * \\n */\\npackage org.openrtb.dsp.intf.mo...  java\n",
       "8  {% extends \"json/page.json\" %}\\n{% block title...  json\n",
       "9  <?php\\n\\nnamespace JMS\\SecurityExtraBundle\\Sec...   php"
      ]
     },
     "execution_count": 3,
     "metadata": {},
     "output_type": "execute_result"
    }
   ],
   "source": [
    "# https://www.kaggle.com/priteshshrivastava/sample-github-code\n",
    "data = pd.read_csv(\"sample_code.csv\", lineterminator='\\n',names=['content','lang'])\n",
    "data.head(10)"
   ]
  },
  {
   "cell_type": "markdown",
   "metadata": {},
   "source": [
    "### Filtrage des donnees"
   ]
  },
  {
   "cell_type": "code",
   "execution_count": 4,
   "metadata": {},
   "outputs": [],
   "source": [
    "# Reduire taille trop grande\n",
    "# Todo voir si utile\n",
    "len_cond = [True if 20<=len(s)<=10000 else False for s in data['content']]\n",
    "data = data[len_cond]\n",
    "\n",
    "#Filtrer\n",
    "lang = ['csv', 'txt', 'java', 'cs', 'py', 'cpp','c','js','php']\n",
    "data = data[data['lang'].isin(lang)]\n",
    "\n",
    "data_trim= pd.DataFrame(data=data)\n",
    "\n",
    "'''\n",
    "for l in lang:\n",
    "    lang_trim = data[data['lang'] ==l].sample(50000,random_state = 100)\n",
    "    data_trim = data_trim.append(lang_trim)\n",
    "'''\n",
    "#Melanger\n",
    "data_shuffle = data_trim.sample(frac=1)\n",
    "\n",
    "maxim = data_shuffle.shape[0]\n",
    "percent = 0.8\n",
    "part = int(maxim*percent)\n",
    "train = data_shuffle[0:part]\n",
    "valid = data_shuffle[part:maxim]"
   ]
  },
  {
   "cell_type": "code",
   "execution_count": 5,
   "metadata": {},
   "outputs": [
    {
     "name": "stdout",
     "output_type": "stream",
     "text": [
      "taille du training :  161579\n",
      "taille du validation :  40395\n"
     ]
    }
   ],
   "source": [
    "print(\"taille du training : \",train.shape[0])\n",
    "print(\"taille du validation : \",valid.shape[0])"
   ]
  },
  {
   "cell_type": "markdown",
   "metadata": {},
   "source": [
    "# Training avec Modeles"
   ]
  },
  {
   "cell_type": "markdown",
   "metadata": {},
   "source": [
    "#### Comparaison modeles"
   ]
  },
  {
   "cell_type": "code",
   "execution_count": 6,
   "metadata": {},
   "outputs": [],
   "source": [
    "from matplotlib.colors import ListedColormap\n",
    "from sklearn.model_selection import train_test_split\n",
    "from sklearn.preprocessing import StandardScaler\n",
    "from sklearn.datasets import make_moons, make_circles, make_classification\n",
    "from sklearn.neural_network import MLPClassifier\n",
    "from sklearn.neighbors import KNeighborsClassifier\n",
    "from sklearn.svm import SVC\n",
    "from sklearn.gaussian_process import GaussianProcessClassifier\n",
    "from sklearn.gaussian_process.kernels import RBF\n",
    "from sklearn.tree import DecisionTreeClassifier\n",
    "from sklearn.ensemble import RandomForestClassifier, AdaBoostClassifier\n",
    "from sklearn.naive_bayes import GaussianNB\n",
    "from sklearn.discriminant_analysis import QuadraticDiscriminantAnalysis\n",
    "from sklearn.naive_bayes import MultinomialNB\n",
    "from sklearn.linear_model import SGDClassifier\n",
    "\n",
    "import matplotlib.pyplot as plt"
   ]
  },
  {
   "cell_type": "code",
   "execution_count": 7,
   "metadata": {},
   "outputs": [
    {
     "name": "stdout",
     "output_type": "stream",
     "text": [
      "Training ... ( 1 / 6 )\n",
      "Training ... ( 2 / 6 )\n",
      "Training ... ( 3 / 6 )\n",
      "Training ... ( 4 / 6 )\n"
     ]
    },
    {
     "name": "stderr",
     "output_type": "stream",
     "text": [
      "/home/nonoreve/.local/lib/python3.7/site-packages/sklearn/svm/_base.py:258: ConvergenceWarning: Solver terminated early (max_iter=5).  Consider pre-processing your data with StandardScaler or MinMaxScaler.\n",
      "  % self.max_iter, ConvergenceWarning)\n"
     ]
    },
    {
     "name": "stdout",
     "output_type": "stream",
     "text": [
      "Training ... ( 5 / 6 )\n",
      "duration :  211.6981315612793\n"
     ]
    },
    {
     "data": {
      "text/html": [
       "<div>\n",
       "<style scoped>\n",
       "    .dataframe tbody tr th:only-of-type {\n",
       "        vertical-align: middle;\n",
       "    }\n",
       "\n",
       "    .dataframe tbody tr th {\n",
       "        vertical-align: top;\n",
       "    }\n",
       "\n",
       "    .dataframe thead th {\n",
       "        text-align: right;\n",
       "    }\n",
       "</style>\n",
       "<table border=\"1\" class=\"dataframe\">\n",
       "  <thead>\n",
       "    <tr style=\"text-align: right;\">\n",
       "      <th></th>\n",
       "      <th>SGD Classif</th>\n",
       "      <th>MultiBayesAdaBoost</th>\n",
       "      <th>RBF SVM</th>\n",
       "      <th>Decision Tree</th>\n",
       "      <th>Random Forest</th>\n",
       "    </tr>\n",
       "  </thead>\n",
       "  <tbody>\n",
       "    <tr>\n",
       "      <th>0</th>\n",
       "      <td>0.913145</td>\n",
       "      <td>0.876011</td>\n",
       "      <td>0.695270</td>\n",
       "      <td>0.149636</td>\n",
       "      <td>0.653742</td>\n",
       "    </tr>\n",
       "    <tr>\n",
       "      <th>1</th>\n",
       "      <td>0.912266</td>\n",
       "      <td>0.846120</td>\n",
       "      <td>0.689689</td>\n",
       "      <td>0.151479</td>\n",
       "      <td>0.649462</td>\n",
       "    </tr>\n",
       "  </tbody>\n",
       "</table>\n",
       "</div>"
      ],
      "text/plain": [
       "   SGD Classif  MultiBayesAdaBoost   RBF SVM  Decision Tree  Random Forest\n",
       "0     0.913145            0.876011  0.695270       0.149636       0.653742\n",
       "1     0.912266            0.846120  0.689689       0.151479       0.649462"
      ]
     },
     "metadata": {},
     "output_type": "display_data"
    }
   ],
   "source": [
    "#[!] Attention ce script prend BEAUCOUP de temps\n",
    "import time\n",
    "\n",
    "\n",
    "names = [\n",
    "        \"SGD Classif\",\n",
    "        \"MultiBayes\"\n",
    "        \"AdaBoost\",\n",
    "        \"RBF SVM\",\n",
    "         \"Decision Tree\",\n",
    "        \"Random Forest\"\n",
    "]\n",
    "\n",
    "classifiers = [\n",
    "    SGDClassifier(loss='hinge', penalty='l2',\n",
    "                      alpha=1e-3, random_state=42,\n",
    "                      max_iter=5, tol=None),\n",
    "    MultinomialNB(),\n",
    "    AdaBoostClassifier(n_estimators=5),# ok\n",
    "    SVC(gamma=2, C=1, max_iter=5),#ok\n",
    "    DecisionTreeClassifier(max_depth=3),#ok\n",
    "    RandomForestClassifier(max_depth=3, n_estimators=10, max_features=1)#ok\n",
    "    \n",
    "]\n",
    "\n",
    "rows = []\n",
    "trainScore = []\n",
    "validScore = []\n",
    "i =1\n",
    "\n",
    "t0 = time.time()\n",
    "for name, clff in zip(names, classifiers):\n",
    "    print(\"Training ... (\",i,\"/\",len(classifiers),\")\")\n",
    "    clf = Pipeline([\n",
    "    ('vect', CountVectorizer()),\n",
    "    ('tfidf', TfidfTransformer()),\n",
    "    ('clf', clff),\n",
    "    ])\n",
    "    clf.fit(train[\"content\"],train[\"lang\"])\n",
    "    score = clf.score(train[\"content\"], train[\"lang\"])\n",
    "    \n",
    "    trainScore.append(clf.score(train[\"content\"],train[\"lang\"]))\n",
    "    validScore.append(clf.score(valid[\"content\"],valid[\"lang\"]))\n",
    "    i = i+1\n",
    "\n",
    "\n",
    "t1 = time.time()\n",
    "total = t1-t0\n",
    "print(\"duration : \",total)\n",
    "data= [trainScore, validScore]\n",
    "ptable = pd.DataFrame(data, columns=names)\n",
    "display(ptable)"
   ]
  },
  {
   "cell_type": "markdown",
   "metadata": {},
   "source": [
    "## Modele Multi Bayonesien"
   ]
  },
  {
   "cell_type": "markdown",
   "metadata": {},
   "source": [
    "### Modele Bayonesien a la Main"
   ]
  },
  {
   "cell_type": "code",
   "execution_count": 6,
   "metadata": {},
   "outputs": [],
   "source": [
    "# Todo, reprendre le modele bayonesien a la main ([!] multi bayesien peut etre different de bayesien)"
   ]
  },
  {
   "cell_type": "markdown",
   "metadata": {},
   "source": [
    "### Modele Bayonesien Sklearn"
   ]
  },
  {
   "cell_type": "code",
   "execution_count": 8,
   "metadata": {},
   "outputs": [
    {
     "name": "stdout",
     "output_type": "stream",
     "text": [
      "0.8760111153058256\n",
      "0.8461195692536205\n"
     ]
    }
   ],
   "source": [
    "clf = Pipeline([('vect', CountVectorizer()),\n",
    "                         ('tfidf', TfidfTransformer()),\n",
    "                         ('clf', MultinomialNB())])\n",
    "\n",
    "clf = clf.fit(train[\"content\"],train[\"lang\"])\n",
    "\n",
    "print(clf.score(train[\"content\"],train[\"lang\"]))\n",
    "print(clf.score(valid[\"content\"],valid[\"lang\"]))\n"
   ]
  },
  {
   "cell_type": "markdown",
   "metadata": {},
   "source": [
    "## Modele SGDClassifier"
   ]
  },
  {
   "cell_type": "code",
   "execution_count": 9,
   "metadata": {},
   "outputs": [
    {
     "name": "stdout",
     "output_type": "stream",
     "text": [
      "0.9131446536988098\n",
      "0.912266369600198\n"
     ]
    }
   ],
   "source": [
    "clf = Pipeline([\n",
    "    ('vect', CountVectorizer()),\n",
    "    ('tfidf', TfidfTransformer()),\n",
    "    ('clf', SGDClassifier(loss='hinge', penalty='l2',\n",
    "                      alpha=1e-3, random_state=42,\n",
    "                      max_iter=5, tol=None)),\n",
    "])\n",
    "\n",
    "clf = clf.fit(train[\"content\"],train[\"lang\"])\n",
    "\n",
    "print(clf.score(train[\"content\"],train[\"lang\"]))\n",
    "print(clf.score(valid[\"content\"],valid[\"lang\"]))\n"
   ]
  },
  {
   "cell_type": "code",
   "execution_count": 22,
   "metadata": {},
   "outputs": [
    {
     "name": "stdout",
     "output_type": "stream",
     "text": [
      "Index(['content', 'lang'], dtype='object')\n",
      "                                                  content lang\n",
      "320557  using System;\\nusing MrCMS.Website;\\n\\nnamespa...   cs\n",
      "322428  from setuptools import setup\\n\\nsetup(\\n    na...   py\n",
      "\n",
      "Index(['SGD Classif', 'MultiBayesAdaBoost', 'RBF SVM', 'Decision Tree',\n",
      "       'Random Forest'],\n",
      "      dtype='object')\n",
      "   SGD Classif  MultiBayesAdaBoost   RBF SVM  Decision Tree  Random Forest\n",
      "0     0.913145            0.876011  0.695270       0.149636       0.653742\n",
      "1     0.912266            0.846120  0.689689       0.151479       0.649462\n",
      "\n",
      "['csv', 'txt', 'java', 'cs', 'py', 'cpp', 'c', 'js', 'php']\n"
     ]
    }
   ],
   "source": [
    "print(valid.columns)\n",
    "print(valid.head(2))\n",
    "print()\n",
    "print(ptable.columns)\n",
    "print(ptable.head(2))\n",
    "print()\n",
    "print(lang)"
   ]
  },
  {
   "cell_type": "markdown",
   "metadata": {},
   "source": [
    "# Recherche hyperparametre :"
   ]
  },
  {
   "cell_type": "markdown",
   "metadata": {},
   "source": [
    "#### Nos Recherches"
   ]
  },
  {
   "cell_type": "code",
   "execution_count": null,
   "metadata": {},
   "outputs": [],
   "source": [
    "#Todo hyperparametre (use_idf, alpha, C ...)\n",
    "# Todo graphe differents hyperparametre"
   ]
  },
  {
   "cell_type": "markdown",
   "metadata": {},
   "source": [
    "#### Recherche avec GridSearchCV"
   ]
  },
  {
   "cell_type": "code",
   "execution_count": null,
   "metadata": {},
   "outputs": [],
   "source": [
    "#Todo\n",
    "#determiner meilleur hyperparam avec GridSearchCV"
   ]
  },
  {
   "cell_type": "markdown",
   "metadata": {},
   "source": [
    "# Analyse des resultat"
   ]
  },
  {
   "cell_type": "code",
   "execution_count": 27,
   "metadata": {},
   "outputs": [
    {
     "name": "stdout",
     "output_type": "stream",
     "text": [
      "[[  39  148   21    2    2    0    1   88    2]\n",
      " [   0 4229  227   45  106    7   28  638   81]\n",
      " [   0   11 7810    3    2    0    5    8   12]\n",
      " [   1    9  213 4272    1    0    3   18    5]\n",
      " [   0   82  182    9 3490    1    0  105    6]\n",
      " [   0   63   86  114   10  545  387  121   17]\n",
      " [   0   66   35    3   10    3 1764   81    9]\n",
      " [   0   63   87   10   61    0    0 9559   27]\n",
      " [   0   24   54    4   10    0    1  126 5143]]\n"
     ]
    },
    {
     "data": {
      "image/png": "[encoded data removed]",
      "text/plain": [
       "<Figure size 432x288 with 2 Axes>"
      ]
     },
     "metadata": {
      "needs_background": "light"
     },
     "output_type": "display_data"
    }
   ],
   "source": [
    "# Matrice de confusion\n",
    "y_true = valid[\"lang\"]\n",
    "y_pred = clf.predict(valid[\"content\"])\n",
    "print(confusion_matrix(y_true, y_pred, labels=lang))\n",
    "plot_confusion_matrix(clf, train[\"content\"], train[\"lang\"])\n",
    "plt.show()\n",
    "#Todo accuracy test"
   ]
  },
  {
   "cell_type": "code",
   "execution_count": 10,
   "metadata": {},
   "outputs": [
    {
     "name": "stdout",
     "output_type": "stream",
     "text": [
      "              precision    recall  f1-score   support\n",
      "\n",
      "         csv       0.81      0.89      0.85      1971\n",
      "         txt       0.98      0.41      0.57      1343\n",
      "        java       0.96      0.94      0.95      4522\n",
      "          cs       0.97      0.13      0.23       303\n",
      "          py       0.90      0.99      0.94      7851\n",
      "         cpp       0.89      0.97      0.93      9807\n",
      "           c       0.97      0.96      0.96      5362\n",
      "          js       0.95      0.90      0.92      3875\n",
      "         php       0.90      0.79      0.84      5361\n",
      "\n",
      "    accuracy                           0.91     40395\n",
      "   macro avg       0.92      0.78      0.80     40395\n",
      "weighted avg       0.92      0.91      0.91     40395\n",
      "\n"
     ]
    }
   ],
   "source": [
    "y_true =  valid[\"lang\"]\n",
    "y_pred = clf.predict(valid[\"content\"])\n",
    "target_names = lang\n",
    "print(classification_report(y_true, y_pred, target_names=target_names))"
   ]
  },
  {
   "cell_type": "code",
   "execution_count": null,
   "metadata": {},
   "outputs": [],
   "source": []
  }
 ],
 "metadata": {
  "kernelspec": {
   "display_name": "Python 3",
   "language": "python",
   "name": "python3"
  },
  "language_info": {
   "codemirror_mode": {
    "name": "ipython",
    "version": 3
   },
   "file_extension": ".py",
   "mimetype": "text/x-python",
   "name": "python",
   "nbconvert_exporter": "python",
   "pygments_lexer": "ipython3",
   "version": "3.7.5"
  }
 },
 "nbformat": 4,
 "nbformat_minor": 4
}
